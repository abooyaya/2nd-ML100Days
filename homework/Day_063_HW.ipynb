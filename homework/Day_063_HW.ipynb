{
 "cells": [
  {
   "cell_type": "markdown",
   "metadata": {},
   "source": [
    "# 作業\n",
    "* 在精簡深度學習的方式上 : 卷積類神經 (CNN) 採用像素遠近，而遞歸類神經 (RNN) 採用著則是時間遠近\n",
    "* 那麼，既然有著類似的設計精神，兩者是否有可能互換應用呢?\n",
    "\n",
    "回答：從"
   ]
  },
  {
   "cell_type": "markdown",
   "metadata": {
    "collapsed": true
   },
   "source": [
    "## Understanding Neural Networks. From neuron to RNN, CNN, and Deep Learning\n",
    "\n",
    "### https://towardsdatascience.com/understanding-neural-networks-from-neuron-to-rnn-cnn-and-deep-learning-cd88e90e0a90\n",
    "\n",
    "\n",
    "1. 幾個最有名的ACTIVATION FUNCTIONS: step, sigmoid, tanh, ReLU\n",
    "2. Neural Network: input layer, hidden layer, output layer(More than ine hidden layer is deep)\n",
    "3. Convolutional Neural Networks (CNN):  <br>\n",
    "3.1. convolution: 用input matrix 和 kernel matrix 相乘(filter)，得到一個 output matrix <br>\n",
    "3.2.  pooling: Pooling is a sample-based discretization process. (減少維度並作出假設) (max pooling, min pooling) <br>\n",
    "3.3.  CNN 的 hidden layer 包含：convolutional layers, pooling layers, fully connected layers, and normalization layers <br>\n",
    "4. Recurrent Neural Networks (RNN) <br>\n",
    "4.1. heavily used in Natural Language Processing <br>\n",
    "4.2. 有記憶性的 <br>"
   ]
  },
  {
   "cell_type": "markdown",
   "metadata": {},
   "source": [
    "## Let’s Learn the Difference Between a Deep Learning CNN and RNN\n",
    "### https://blog.exxactcorp.com/lets-learn-the-difference-between-a-deep-learning-cnn-and-rnn/\n",
    "\n",
    "#### RNN適合的應用場景：\n",
    "\n",
    "1. Image classification, where an image is examined and a single determination is made, such as “Daytime picture” versus “Nighttime picture”.\n",
    "This is an example of a one-to-one mapping.\n",
    "\n",
    "2. Image captioning, where an image is automatically given a caption based on what is being shown. This can include complex actions, such as: “Fox jumping over dog”.\n",
    "This task requires a one-to-many RNN, where the input is a single image and the output is a phrase consisting of several words.\n",
    "\n",
    "3. Time series prediction, such as the forecasting of a stock price given a history of values.\n",
    "This task involves using a many-to-one RNN, where many previous stock prices are used to predict a single, future price.\n",
    "\n",
    "4. Automatic language translation, where the written text or spoken words of one language serves as input, and a different language representing the same text is output.\n",
    "This is an example of a many-to-many RNN, where several words are analyzed as input, and the output is also several words in length.\n",
    "\n",
    "5. Natural language processing, such as sentiment analysis in social media posts.\n",
    "Depending on the complexity of the sentiment, this RNN may be of type many-to-one or many-to-many. If, for example, the sentiment is “positive” or “negative”, then there is only a single output. However, if the sentiment is more complex and combined with additional modifiers such as “positive and funny”, “negative and angry”, or “negative and funny” then it would be suitable for a many-to-many implementation.\n",
    "\n",
    "6. Text classification and sentence completion. RNN is used broadly in text classification, outperforming other well known algorithms such as the Support Vector Machine (SVM).\n",
    "Segmented handwriting recognition and speech recognition systems have also been successfully implemented using RNNs.\n",
    "\n",
    "#### CNN適合的應用場景：\n",
    "1. 影像識別\n"
   ]
  },
  {
   "cell_type": "markdown",
   "metadata": {},
   "source": [
    "## When to Use MLP, CNN, and RNN Neural Networks\n",
    "### https://machinelearningmastery.com/when-to-use-mlp-cnn-and-rnn-neural-networks/\n",
    "\n",
    "#### When to Use Multilayer Perceptrons?(MLP)\n",
    "Use MLPs For:\n",
    "\n",
    "Tabular datasets\n",
    "Classification prediction problems\n",
    "Regression prediction problems\n",
    "\n",
    "Try MLPs On:\n",
    "\n",
    "Image data\n",
    "Text Data\n",
    "Time series data\n",
    "Other types of data\n",
    "\n",
    "#### When to Use Convolutional Neural Networks?\n",
    "Use CNNs For:\n",
    "\n",
    "Image data\n",
    "Classification prediction problems\n",
    "Regression prediction problems\n",
    "\n",
    "Try CNNs On:\n",
    "\n",
    "Text data\n",
    "Time series data\n",
    "Sequence input data\n",
    "\n",
    "\n",
    "#### When to Use Recurrent Neural Networks?\n",
    "\n",
    "Use RNNs For:\n",
    "\n",
    "Text data\n",
    "Speech data\n",
    "Classification prediction problems\n",
    "Regression prediction problems\n",
    "Generative models\n",
    "\n",
    "Don’t Use RNNs For:\n",
    "\n",
    "Tabular data\n",
    "Image data"
   ]
  },
  {
   "cell_type": "code",
   "execution_count": null,
   "metadata": {},
   "outputs": [],
   "source": []
  }
 ],
 "metadata": {
  "kernelspec": {
   "display_name": "Python 3",
   "language": "python",
   "name": "python3"
  },
  "language_info": {
   "codemirror_mode": {
    "name": "ipython",
    "version": 3
   },
   "file_extension": ".py",
   "mimetype": "text/x-python",
   "name": "python",
   "nbconvert_exporter": "python",
   "pygments_lexer": "ipython3",
   "version": "3.7.2"
  }
 },
 "nbformat": 4,
 "nbformat_minor": 2
}
