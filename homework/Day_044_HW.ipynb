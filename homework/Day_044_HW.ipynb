{
 "cells": [
  {
   "cell_type": "markdown",
   "metadata": {},
   "source": [
    "## [作業重點]\n",
    "確保你了解隨機森林模型中每個超參數的意義，並觀察調整超參數對結果的影響"
   ]
  },
  {
   "cell_type": "markdown",
   "metadata": {},
   "source": [
    "## 作業\n",
    "\n",
    "1. 試著調整 RandomForestClassifier(...) 中的參數，並觀察是否會改變結果？\n",
    "2. 改用其他資料集 (boston, wine)，並與回歸模型與決策樹的結果進行比較"
   ]
  },
  {
   "cell_type": "code",
   "execution_count": 6,
   "metadata": {},
   "outputs": [],
   "source": [
    "from sklearn import datasets, metrics, linear_model\n",
    "from sklearn.ensemble import RandomForestClassifier, RandomForestRegressor\n",
    "from sklearn.model_selection import train_test_split\n",
    "\n",
    "from sklearn.metrics import mean_squared_error, r2_score, accuracy_score\n"
   ]
  },
  {
   "cell_type": "markdown",
   "metadata": {},
   "source": [
    "## 用一般Linear Regression 跑boston資料集"
   ]
  },
  {
   "cell_type": "code",
   "execution_count": 3,
   "metadata": {},
   "outputs": [
    {
     "name": "stdout",
     "output_type": "stream",
     "text": [
      "Mean squared error: 17.03\n"
     ]
    }
   ],
   "source": [
    "# 讀取boston資料集\n",
    "boston = datasets.load_boston()\n",
    "\n",
    "# 切分訓練集/測試集\n",
    "x_train, x_test, y_train, y_test = train_test_split(boston.data, boston.target, test_size=0.1, random_state=4)\n",
    "\n",
    "# 建立一個線性回歸模型\n",
    "regr = linear_model.LinearRegression()\n",
    "\n",
    "# 將訓練資料丟進去模型訓練\n",
    "regr.fit(x_train, y_train)\n",
    "\n",
    "# 將測試資料丟進模型得到預測結果\n",
    "y_pred = regr.predict(x_test)\n",
    "\n",
    "# 預測值與實際值的差距，使用 MSE\n",
    "print(\"Mean squared error: %.2f\"\n",
    "      % mean_squared_error(y_test, y_pred))"
   ]
  },
  {
   "cell_type": "markdown",
   "metadata": {},
   "source": [
    "## 用RandomForestRegressor跑Boston 資料集"
   ]
  },
  {
   "cell_type": "code",
   "execution_count": 63,
   "metadata": {},
   "outputs": [
    {
     "name": "stdout",
     "output_type": "stream",
     "text": [
      "Mean squared error: 9.09\n"
     ]
    }
   ],
   "source": [
    "# 讀取boston資料集\n",
    "boston = datasets.load_boston()\n",
    "\n",
    "# 切分訓練集/測試集\n",
    "x_train, x_test, y_train, y_test = train_test_split(boston.data, boston.target, test_size=0.1, random_state=4)\n",
    "\"\"\"\n",
    "RandomForestRegressor(n_estimators=10, #決策樹的數量\n",
    "                      criterion='mse', \n",
    "                      max_depth=None, \n",
    "                      min_samples_split=2, \n",
    "                      min_samples_leaf=1, \n",
    "                      min_weight_fraction_leaf=0.0, \n",
    "                      max_features='auto', \n",
    "                      max_leaf_nodes=None, \n",
    "                      min_impurity_decrease=0.0, \n",
    "                      min_impurity_split=None, \n",
    "                      bootstrap=True, \n",
    "                      oob_score=False, \n",
    "                      n_jobs=1, \n",
    "                      random_state=None, \n",
    "                      verbose=0, \n",
    "                      warm_start=False)\n",
    "\"\"\"\n",
    "#建立RF Regressor Model\n",
    "clf = RandomForestRegressor(n_estimators=20, min_samples_leaf=2)\n",
    "\n",
    "# 訓練模型\n",
    "clf.fit(x_train, y_train)\n",
    "\n",
    "# 預測測試集\n",
    "y_pred = clf.predict(x_test)\n",
    "\n",
    "# 預測值與實際值的差距，使用 MSE\n",
    "print(\"Mean squared error: %.2f\"\n",
    "      % mean_squared_error(y_test, y_pred))\n",
    "\n",
    "\n",
    "#DT 最好MSE是13.99\n",
    "#RF 完全都沒設參數，MSE = 12.28\n",
    "#RF n_estimators=20 MSE = 10.88, n_estimators=30 MSE = 10.39, RF n_estimators=40 MSE = 9.36\n"
   ]
  },
  {
   "cell_type": "code",
   "execution_count": 64,
   "metadata": {},
   "outputs": [
    {
     "name": "stdout",
     "output_type": "stream",
     "text": [
      "['CRIM' 'ZN' 'INDUS' 'CHAS' 'NOX' 'RM' 'AGE' 'DIS' 'RAD' 'TAX' 'PTRATIO'\n",
      " 'B' 'LSTAT']\n",
      "[0.03889351 0.00055294 0.00484353 0.00049795 0.01653931 0.44638178\n",
      " 0.01363648 0.06836038 0.0037264  0.01160363 0.01749434 0.00884277\n",
      " 0.36862697]\n"
     ]
    }
   ],
   "source": [
    "print(boston.feature_names)\n",
    "print(clf.feature_importances_)"
   ]
  },
  {
   "cell_type": "markdown",
   "metadata": {},
   "source": [
    "## 用LogisticRegression跑breast_cancer資料集"
   ]
  },
  {
   "cell_type": "code",
   "execution_count": 39,
   "metadata": {},
   "outputs": [
    {
     "name": "stdout",
     "output_type": "stream",
     "text": [
      "Accuracy:  0.8771929824561403\n"
     ]
    }
   ],
   "source": [
    "#breast_cancer 是分類的, 0是malignant(惡性), 1是benign(良性)\n",
    "\n",
    "# 讀取breast_cancer資料集\n",
    "breast_cancer = datasets.load_breast_cancer()\n",
    "\n",
    "# 切分訓練集/測試集\n",
    "x_train, x_test, y_train, y_test = train_test_split(breast_cancer.data, breast_cancer.target, test_size=0.1, random_state=4)\n",
    "\n",
    "# 建立模型\n",
    "logreg = linear_model.LogisticRegression()\n",
    "\n",
    "# 訓練模型\n",
    "logreg.fit(x_train, y_train)\n",
    "\n",
    "# 預測測試集\n",
    "y_pred = logreg.predict(x_test)\n",
    "\n",
    "acc = accuracy_score(y_test, y_pred)\n",
    "\n",
    "print(\"Accuracy: \", acc)"
   ]
  },
  {
   "cell_type": "markdown",
   "metadata": {},
   "source": [
    "## 用RandomForestClassifier跑breast_cancer資料集"
   ]
  },
  {
   "cell_type": "code",
   "execution_count": 65,
   "metadata": {},
   "outputs": [
    {
     "name": "stdout",
     "output_type": "stream",
     "text": [
      "Accuracy:  0.9298245614035088\n"
     ]
    }
   ],
   "source": [
    "#breast_cancer 是分類的, 0是malignant(惡性), 1是benign(良性)\n",
    "\n",
    "# 讀取breast_cancer資料集\n",
    "breast_cancer = datasets.load_breast_cancer()\n",
    "\n",
    "# 切分訓練集/測試集\n",
    "x_train, x_test, y_train, y_test = train_test_split(breast_cancer.data, breast_cancer.target, test_size=0.1, random_state=4)\n",
    "\"\"\"\n",
    "RandomForestClassifier(n_estimators=10, \n",
    "                       criterion='gini', \n",
    "                       max_depth=None, \n",
    "                       min_samples_split=2, \n",
    "                       min_samples_leaf=1, \n",
    "                       min_weight_fraction_leaf=0.0, \n",
    "                       max_features='auto', \n",
    "                       max_leaf_nodes=None, \n",
    "                       min_impurity_decrease=0.0, \n",
    "                       min_impurity_split=None, \n",
    "                       bootstrap=True, \n",
    "                       oob_score=False, \n",
    "                       n_jobs=1, \n",
    "                       random_state=None, \n",
    "                       verbose=0, \n",
    "                       warm_start=False, \n",
    "                       class_weight=None)\n",
    "\"\"\"\n",
    "# 建立模型\n",
    "clf = RandomForestClassifier(n_estimators=20, min_samples_leaf=5)\n",
    "\n",
    "# 訓練模型\n",
    "clf.fit(x_train, y_train)\n",
    "\n",
    "# 預測測試集\n",
    "y_pred = clf.predict(x_test)\n",
    "\n",
    "acc = accuracy_score(y_test, y_pred)\n",
    "\n",
    "print(\"Accuracy: \", acc)\n",
    "\n",
    "#DT 的Accuracy:0.8947368421052632\n",
    "# RF 的 Accuracy:  0.9298245614035088\n",
    "\n",
    "\n"
   ]
  },
  {
   "cell_type": "code",
   "execution_count": 66,
   "metadata": {},
   "outputs": [
    {
     "name": "stdout",
     "output_type": "stream",
     "text": [
      "['mean radius' 'mean texture' 'mean perimeter' 'mean area'\n",
      " 'mean smoothness' 'mean compactness' 'mean concavity'\n",
      " 'mean concave points' 'mean symmetry' 'mean fractal dimension'\n",
      " 'radius error' 'texture error' 'perimeter error' 'area error'\n",
      " 'smoothness error' 'compactness error' 'concavity error'\n",
      " 'concave points error' 'symmetry error' 'fractal dimension error'\n",
      " 'worst radius' 'worst texture' 'worst perimeter' 'worst area'\n",
      " 'worst smoothness' 'worst compactness' 'worst concavity'\n",
      " 'worst concave points' 'worst symmetry' 'worst fractal dimension']\n",
      "[3.62089433e-02 7.86411697e-03 4.60178024e-02 7.32495336e-02\n",
      " 2.23165418e-03 0.00000000e+00 3.78382058e-02 5.40488933e-02\n",
      " 1.31339675e-03 1.45970797e-04 5.52101562e-03 1.09072351e-03\n",
      " 9.10572038e-03 9.44549825e-03 7.58282281e-04 3.10557448e-03\n",
      " 1.66580182e-02 1.52093661e-03 1.72515701e-03 2.05860043e-03\n",
      " 1.98303436e-01 1.03776513e-02 1.19870659e-01 9.99977559e-02\n",
      " 6.75180378e-03 2.95077835e-02 4.15308429e-02 1.78068927e-01\n",
      " 5.57283121e-03 1.10265031e-04]\n"
     ]
    }
   ],
   "source": [
    "print(breast_cancer.feature_names)\n",
    "print(clf.feature_importances_)"
   ]
  },
  {
   "cell_type": "code",
   "execution_count": null,
   "metadata": {},
   "outputs": [],
   "source": []
  }
 ],
 "metadata": {
  "kernelspec": {
   "display_name": "Python 3",
   "language": "python",
   "name": "python3"
  },
  "language_info": {
   "codemirror_mode": {
    "name": "ipython",
    "version": 3
   },
   "file_extension": ".py",
   "mimetype": "text/x-python",
   "name": "python",
   "nbconvert_exporter": "python",
   "pygments_lexer": "ipython3",
   "version": "3.7.2"
  }
 },
 "nbformat": 4,
 "nbformat_minor": 2
}
