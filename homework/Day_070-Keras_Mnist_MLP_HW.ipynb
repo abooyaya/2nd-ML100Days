{
 "cells": [
  {
   "cell_type": "markdown",
   "metadata": {},
   "source": [
    "# 作業目標:¶\n",
    "利用手寫辨識資料說明MLP 中, 神經網路層的多寡跟預測結果的差異"
   ]
  },
  {
   "cell_type": "markdown",
   "metadata": {},
   "source": [
    "# 作業重點:\n",
    "[練習]請嘗試新增一層或兩層看看最後預測結果是否有差異\n",
    "model.add(Dense(units=256, input_dim=784, kernel_initializer='normal', activation='relu'))\n"
   ]
  },
  {
   "cell_type": "markdown",
   "metadata": {
    "colab_type": "text",
    "id": "zfI5zCjRPlnc"
   },
   "source": [
    "# 資料預處理"
   ]
  },
  {
   "cell_type": "code",
   "execution_count": 1,
   "metadata": {
    "colab": {
     "autoexec": {
      "startup": false,
      "wait_interval": 0
     },
     "base_uri": "https://localhost:8080/",
     "height": 34
    },
    "colab_type": "code",
    "executionInfo": {
     "elapsed": 20601,
     "status": "ok",
     "timestamp": 1533441753568,
     "user": {
      "displayName": "Edward Cheng",
      "photoUrl": "//lh4.googleusercontent.com/-ANnwjGu3IBk/AAAAAAAAAAI/AAAAAAAAAAc/qXXg6Jek9xw/s50-c-k-no/photo.jpg",
      "userId": "112554017642991017343"
     },
     "user_tz": -480
    },
    "id": "GyIQ7tpGPlnf",
    "outputId": "f3642b99-3ef2-43fe-ee42-e17b1ef50cbb"
   },
   "outputs": [
    {
     "name": "stderr",
     "output_type": "stream",
     "text": [
      "Using TensorFlow backend.\n"
     ]
    }
   ],
   "source": [
    "from keras.utils import np_utils\n",
    "import numpy as np\n",
    "np.random.seed(10)"
   ]
  },
  {
   "cell_type": "code",
   "execution_count": 2,
   "metadata": {
    "colab": {
     "autoexec": {
      "startup": false,
      "wait_interval": 0
     },
     "base_uri": "https://localhost:8080/",
     "height": 51
    },
    "colab_type": "code",
    "executionInfo": {
     "elapsed": 5937,
     "status": "ok",
     "timestamp": 1533441759521,
     "user": {
      "displayName": "Edward Cheng",
      "photoUrl": "//lh4.googleusercontent.com/-ANnwjGu3IBk/AAAAAAAAAAI/AAAAAAAAAAc/qXXg6Jek9xw/s50-c-k-no/photo.jpg",
      "userId": "112554017642991017343"
     },
     "user_tz": -480
    },
    "id": "OLzoKlJRPlno",
    "outputId": "c75f10a4-951d-4b3b-ad5f-c8fc4dff0e96"
   },
   "outputs": [],
   "source": [
    "#載入手寫辨識的資料集\n",
    "from keras.datasets import mnist\n",
    "(x_train_image,y_train_label),\\\n",
    "(x_test_image,y_test_label)= mnist.load_data()"
   ]
  },
  {
   "cell_type": "code",
   "execution_count": 3,
   "metadata": {
    "colab": {
     "autoexec": {
      "startup": false,
      "wait_interval": 0
     }
    },
    "colab_type": "code",
    "id": "QEuQwa4nPlnu"
   },
   "outputs": [],
   "source": [
    "#指定測試集與訓練資料集\n",
    "x_Train =x_train_image.reshape(60000, 784).astype('float32')\n",
    "x_Test = x_test_image.reshape(10000, 784).astype('float32')"
   ]
  },
  {
   "cell_type": "code",
   "execution_count": 4,
   "metadata": {
    "colab": {
     "autoexec": {
      "startup": false,
      "wait_interval": 0
     }
    },
    "colab_type": "code",
    "id": "YisRq-SxPln0"
   },
   "outputs": [],
   "source": [
    "# normalize inputs from 0-255 to 0-1\n",
    "x_Train_normalize = x_Train / 255\n",
    "x_Test_normalize = x_Test / 255"
   ]
  },
  {
   "cell_type": "code",
   "execution_count": 5,
   "metadata": {
    "colab": {
     "autoexec": {
      "startup": false,
      "wait_interval": 0
     }
    },
    "colab_type": "code",
    "id": "AHtfmzpfPln4"
   },
   "outputs": [],
   "source": [
    "#把LABEL轉成NUMERICAL Categorical \n",
    "y_Train_OneHot = np_utils.to_categorical(y_train_label)\n",
    "y_Test_OneHot = np_utils.to_categorical(y_test_label)"
   ]
  },
  {
   "cell_type": "markdown",
   "metadata": {
    "colab_type": "text",
    "id": "0s8PjvqJPln7"
   },
   "source": [
    "# 建立模型"
   ]
  },
  {
   "cell_type": "code",
   "execution_count": 6,
   "metadata": {
    "colab": {
     "autoexec": {
      "startup": false,
      "wait_interval": 0
     }
    },
    "colab_type": "code",
    "id": "N10v1eX2Pln8"
   },
   "outputs": [],
   "source": [
    "from keras.models import Sequential\n",
    "from keras.layers import Dense"
   ]
  },
  {
   "cell_type": "code",
   "execution_count": 18,
   "metadata": {},
   "outputs": [],
   "source": [
    "#建立模型\n",
    "#宣告採用序列模型\n",
    "model = Sequential()\n",
    "\n",
    "#建構輸入層\n",
    "model.add(Dense(units=256, \n",
    "                input_dim=784, \n",
    "                kernel_initializer='normal', \n",
    "                activation='relu'))\n",
    "\n",
    "#建構隱藏層\n",
    "model.add(Dense(units=64, kernel_initializer='normal', activation='softmax'))\n",
    "model.add(Dense(units=32, kernel_initializer='normal', activation='relu'))\n",
    "model.add(Dense(units=16, kernel_initializer='normal', activation='softmax'))\n",
    "model.add(Dense(units=10, kernel_initializer='normal', activation='relu'))\n",
    "\n",
    "\n",
    "\n",
    "#建構輸出層\n",
    "model.add(Dense(units=10, \n",
    "                kernel_initializer='normal', \n",
    "                activation='softmax'))"
   ]
  },
  {
   "cell_type": "code",
   "execution_count": 19,
   "metadata": {},
   "outputs": [
    {
     "name": "stdout",
     "output_type": "stream",
     "text": [
      "_________________________________________________________________\n",
      "Layer (type)                 Output Shape              Param #   \n",
      "=================================================================\n",
      "dense_14 (Dense)             (None, 256)               200960    \n",
      "_________________________________________________________________\n",
      "dense_15 (Dense)             (None, 64)                16448     \n",
      "_________________________________________________________________\n",
      "dense_16 (Dense)             (None, 32)                2080      \n",
      "_________________________________________________________________\n",
      "dense_17 (Dense)             (None, 16)                528       \n",
      "_________________________________________________________________\n",
      "dense_18 (Dense)             (None, 10)                170       \n",
      "_________________________________________________________________\n",
      "dense_19 (Dense)             (None, 10)                110       \n",
      "=================================================================\n",
      "Total params: 220,296\n",
      "Trainable params: 220,296\n",
      "Non-trainable params: 0\n",
      "_________________________________________________________________\n"
     ]
    }
   ],
   "source": [
    "model.summary()"
   ]
  },
  {
   "cell_type": "markdown",
   "metadata": {
    "colab_type": "text",
    "id": "jdoAZgv1PloK"
   },
   "source": [
    "# 訓練模型"
   ]
  },
  {
   "cell_type": "code",
   "execution_count": 20,
   "metadata": {
    "colab": {
     "autoexec": {
      "startup": false,
      "wait_interval": 0
     }
    },
    "colab_type": "code",
    "id": "5d5wrEL3PloK"
   },
   "outputs": [],
   "source": [
    "model.compile(loss='categorical_crossentropy', \n",
    "              optimizer='adam', metrics=['accuracy'])"
   ]
  },
  {
   "cell_type": "code",
   "execution_count": 26,
   "metadata": {
    "colab": {
     "autoexec": {
      "startup": false,
      "wait_interval": 0
     },
     "base_uri": "https://localhost:8080/",
     "height": 374
    },
    "colab_type": "code",
    "executionInfo": {
     "elapsed": 15426,
     "status": "ok",
     "timestamp": 1533441786624,
     "user": {
      "displayName": "Edward Cheng",
      "photoUrl": "//lh4.googleusercontent.com/-ANnwjGu3IBk/AAAAAAAAAAI/AAAAAAAAAAc/qXXg6Jek9xw/s50-c-k-no/photo.jpg",
      "userId": "112554017642991017343"
     },
     "user_tz": -480
    },
    "id": "VlpjoqQ9PloM",
    "outputId": "b91454c9-af9a-40fe-9736-b4a1c97462cd"
   },
   "outputs": [
    {
     "name": "stdout",
     "output_type": "stream",
     "text": [
      "Train on 48000 samples, validate on 12000 samples\n",
      "Epoch 1/30\n",
      "48000/48000 [==============================] - 6s 123us/step - loss: 0.0687 - acc: 0.9879 - val_loss: 0.2005 - val_acc: 0.9691\n",
      "Epoch 2/30\n",
      "48000/48000 [==============================] - 6s 131us/step - loss: 0.0676 - acc: 0.9880 - val_loss: 0.1957 - val_acc: 0.9708\n",
      "Epoch 3/30\n",
      "48000/48000 [==============================] - 7s 152us/step - loss: 0.0656 - acc: 0.9886 - val_loss: 0.1917 - val_acc: 0.9710\n",
      "Epoch 4/30\n",
      "48000/48000 [==============================] - 10s 200us/step - loss: 0.0615 - acc: 0.9896 - val_loss: 0.1943 - val_acc: 0.9708\n",
      "Epoch 5/30\n",
      "48000/48000 [==============================] - 11s 220us/step - loss: 0.0512 - acc: 0.9915 - val_loss: 0.1655 - val_acc: 0.9764\n",
      "Epoch 6/30\n",
      "48000/48000 [==============================] - 7s 156us/step - loss: 0.0493 - acc: 0.9919 - val_loss: 0.1706 - val_acc: 0.9755\n",
      "Epoch 7/30\n",
      "48000/48000 [==============================] - 7s 156us/step - loss: 0.0535 - acc: 0.9918 - val_loss: 0.2065 - val_acc: 0.9721\n",
      "Epoch 8/30\n",
      "48000/48000 [==============================] - 8s 158us/step - loss: 0.0471 - acc: 0.9918 - val_loss: 0.1747 - val_acc: 0.9761\n",
      "Epoch 9/30\n",
      "48000/48000 [==============================] - 8s 157us/step - loss: 0.0389 - acc: 0.9939 - val_loss: 0.1890 - val_acc: 0.9732\n",
      "Epoch 10/30\n",
      "48000/48000 [==============================] - 8s 158us/step - loss: 0.0472 - acc: 0.9923 - val_loss: 0.2275 - val_acc: 0.9699\n",
      "Epoch 11/30\n",
      "48000/48000 [==============================] - 8s 167us/step - loss: 0.0461 - acc: 0.9930 - val_loss: 0.2127 - val_acc: 0.9702\n",
      "Epoch 12/30\n",
      "48000/48000 [==============================] - 8s 169us/step - loss: 0.0430 - acc: 0.9932 - val_loss: 0.1846 - val_acc: 0.9731\n",
      "Epoch 13/30\n",
      "48000/48000 [==============================] - 9s 187us/step - loss: 0.0352 - acc: 0.9943 - val_loss: 0.1768 - val_acc: 0.9755\n",
      "Epoch 14/30\n",
      "48000/48000 [==============================] - 8s 165us/step - loss: 0.0349 - acc: 0.9945 - val_loss: 0.1820 - val_acc: 0.9738\n",
      "Epoch 15/30\n",
      "48000/48000 [==============================] - 9s 191us/step - loss: 0.0399 - acc: 0.9942 - val_loss: 0.1901 - val_acc: 0.9739\n",
      "Epoch 16/30\n",
      "48000/48000 [==============================] - 8s 167us/step - loss: 0.0360 - acc: 0.9942 - val_loss: 0.1766 - val_acc: 0.9778\n",
      "Epoch 17/30\n",
      "48000/48000 [==============================] - 8s 166us/step - loss: 0.0343 - acc: 0.9944 - val_loss: 0.1909 - val_acc: 0.9754\n",
      "Epoch 18/30\n",
      "48000/48000 [==============================] - 8s 166us/step - loss: 0.0304 - acc: 0.9950 - val_loss: 0.1768 - val_acc: 0.9762\n",
      "Epoch 19/30\n",
      "48000/48000 [==============================] - 8s 166us/step - loss: 0.0253 - acc: 0.9964 - val_loss: 0.1865 - val_acc: 0.9750\n",
      "Epoch 20/30\n",
      "48000/48000 [==============================] - 9s 192us/step - loss: 0.0320 - acc: 0.9949 - val_loss: 0.1687 - val_acc: 0.9778\n",
      "Epoch 21/30\n",
      "48000/48000 [==============================] - 11s 221us/step - loss: 0.0287 - acc: 0.9952 - val_loss: 0.1767 - val_acc: 0.9742\n",
      "Epoch 22/30\n",
      "48000/48000 [==============================] - 9s 194us/step - loss: 0.0297 - acc: 0.9952 - val_loss: 0.1878 - val_acc: 0.9744\n",
      "Epoch 23/30\n",
      "48000/48000 [==============================] - 8s 161us/step - loss: 0.0326 - acc: 0.9946 - val_loss: 0.1842 - val_acc: 0.9737\n",
      "Epoch 24/30\n",
      "48000/48000 [==============================] - 8s 158us/step - loss: 0.0188 - acc: 0.9972 - val_loss: 0.1875 - val_acc: 0.9746\n",
      "Epoch 25/30\n",
      "48000/48000 [==============================] - 8s 158us/step - loss: 0.0247 - acc: 0.9962 - val_loss: 0.1701 - val_acc: 0.9748\n",
      "Epoch 26/30\n",
      "48000/48000 [==============================] - 8s 162us/step - loss: 0.0273 - acc: 0.9961 - val_loss: 0.1873 - val_acc: 0.9751\n",
      "Epoch 27/30\n",
      "48000/48000 [==============================] - 8s 163us/step - loss: 0.0272 - acc: 0.9964 - val_loss: 0.1687 - val_acc: 0.9758\n",
      "Epoch 28/30\n",
      "48000/48000 [==============================] - 8s 161us/step - loss: 0.0203 - acc: 0.9971 - val_loss: 0.2099 - val_acc: 0.9710\n",
      "Epoch 29/30\n",
      "48000/48000 [==============================] - 8s 162us/step - loss: 0.0189 - acc: 0.9970 - val_loss: 0.1925 - val_acc: 0.9769\n",
      "Epoch 30/30\n",
      "48000/48000 [==============================] - 8s 162us/step - loss: 0.0260 - acc: 0.9960 - val_loss: 0.1734 - val_acc: 0.9775\n"
     ]
    }
   ],
   "source": [
    "train_history =model.fit(x=x_Train_normalize,\n",
    "                         y=y_Train_OneHot,validation_split=0.2, \n",
    "                         epochs=30, batch_size=32,verbose=1)"
   ]
  },
  {
   "cell_type": "markdown",
   "metadata": {
    "colab_type": "text",
    "id": "pV1Ftdb0PloP"
   },
   "source": [
    "# 以圖形顯示訓練過程"
   ]
  },
  {
   "cell_type": "code",
   "execution_count": 27,
   "metadata": {
    "colab": {
     "autoexec": {
      "startup": false,
      "wait_interval": 0
     }
    },
    "colab_type": "code",
    "id": "EEmuoa1dPloQ"
   },
   "outputs": [],
   "source": [
    "import matplotlib.pyplot as plt\n",
    "def show_train_history(train_history,train,validation):\n",
    "    plt.plot(train_history.history[train])\n",
    "    plt.plot(train_history.history[validation])\n",
    "    plt.title('Train History')\n",
    "    plt.ylabel(train)\n",
    "    plt.xlabel('Epoch')\n",
    "    plt.legend(['train', 'validation'], loc='upper left')\n",
    "    plt.show()"
   ]
  },
  {
   "cell_type": "code",
   "execution_count": 28,
   "metadata": {
    "colab": {
     "autoexec": {
      "startup": false,
      "wait_interval": 0
     },
     "base_uri": "https://localhost:8080/",
     "height": 376
    },
    "colab_type": "code",
    "executionInfo": {
     "elapsed": 1451,
     "status": "ok",
     "timestamp": 1533441789030,
     "user": {
      "displayName": "Edward Cheng",
      "photoUrl": "//lh4.googleusercontent.com/-ANnwjGu3IBk/AAAAAAAAAAI/AAAAAAAAAAc/qXXg6Jek9xw/s50-c-k-no/photo.jpg",
      "userId": "112554017642991017343"
     },
     "user_tz": -480
    },
    "id": "fvE2WsejPloT",
    "outputId": "bb56e170-8850-409e-bbb2-eb6b5b89e528"
   },
   "outputs": [
    {
     "data": {
      "image/png": "[encoded data removed]",
      "text/plain": [
       "<Figure size 432x288 with 1 Axes>"
      ]
     },
     "metadata": {
      "needs_background": "light"
     },
     "output_type": "display_data"
    }
   ],
   "source": [
    "show_train_history(train_history,'acc','val_acc')"
   ]
  },
  {
   "cell_type": "code",
   "execution_count": 29,
   "metadata": {
    "colab": {
     "autoexec": {
      "startup": false,
      "wait_interval": 0
     },
     "base_uri": "https://localhost:8080/",
     "height": 376
    },
    "colab_type": "code",
    "executionInfo": {
     "elapsed": 1937,
     "status": "ok",
     "timestamp": 1533441791049,
     "user": {
      "displayName": "Edward Cheng",
      "photoUrl": "//lh4.googleusercontent.com/-ANnwjGu3IBk/AAAAAAAAAAI/AAAAAAAAAAc/qXXg6Jek9xw/s50-c-k-no/photo.jpg",
      "userId": "112554017642991017343"
     },
     "user_tz": -480
    },
    "id": "zIYyrnFWPloW",
    "outputId": "4bdbd1fa-6f25-49af-88d0-8d35f6e2ecaa"
   },
   "outputs": [
    {
     "data": {
      "image/png": "[encoded data removed]",
      "text/plain": [
       "<Figure size 432x288 with 1 Axes>"
      ]
     },
     "metadata": {
      "needs_background": "light"
     },
     "output_type": "display_data"
    }
   ],
   "source": [
    "show_train_history(train_history,'loss','val_loss')"
   ]
  },
  {
   "cell_type": "markdown",
   "metadata": {
    "colab_type": "text",
    "id": "h1z2y0g-PloZ"
   },
   "source": [
    "# 評估模型準確率"
   ]
  },
  {
   "cell_type": "code",
   "execution_count": 30,
   "metadata": {
    "colab": {
     "autoexec": {
      "startup": false,
      "wait_interval": 0
     },
     "base_uri": "https://localhost:8080/",
     "height": 68
    },
    "colab_type": "code",
    "executionInfo": {
     "elapsed": 1425,
     "status": "ok",
     "timestamp": 1533441792584,
     "user": {
      "displayName": "Edward Cheng",
      "photoUrl": "//lh4.googleusercontent.com/-ANnwjGu3IBk/AAAAAAAAAAI/AAAAAAAAAAc/qXXg6Jek9xw/s50-c-k-no/photo.jpg",
      "userId": "112554017642991017343"
     },
     "user_tz": -480
    },
    "id": "vMawurJqPloZ",
    "outputId": "31465f8d-cfad-49b8-dc9e-90d643e6b4a8"
   },
   "outputs": [
    {
     "name": "stdout",
     "output_type": "stream",
     "text": [
      "10000/10000 [==============================] - 0s 33us/step\n",
      "\n",
      "accuracy= 0.9791\n"
     ]
    }
   ],
   "source": [
    "scores = model.evaluate(x_Test_normalize, y_Test_OneHot)\n",
    "print()\n",
    "print('accuracy=',scores[1])"
   ]
  },
  {
   "cell_type": "code",
   "execution_count": null,
   "metadata": {},
   "outputs": [],
   "source": []
  }
 ],
 "metadata": {
  "accelerator": "GPU",
  "colab": {
   "collapsed_sections": [],
   "default_view": {},
   "name": "Keras_Mnist_MLP_h256.ipynb",
   "provenance": [],
   "version": "0.3.2",
   "views": {}
  },
  "kernelspec": {
   "display_name": "Python 3",
   "language": "python",
   "name": "python3"
  },
  "language_info": {
   "codemirror_mode": {
    "name": "ipython",
    "version": 3
   },
   "file_extension": ".py",
   "mimetype": "text/x-python",
   "name": "python",
   "nbconvert_exporter": "python",
   "pygments_lexer": "ipython3",
   "version": "3.7.3"
  }
 },
 "nbformat": 4,
 "nbformat_minor": 1
}
