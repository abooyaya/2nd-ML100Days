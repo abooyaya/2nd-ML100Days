{
 "cells": [
  {
   "cell_type": "markdown",
   "metadata": {},
   "source": [
    "## Work\n",
    "1. 試比較 save_best_only 與否的差異, 是True的話，最佳的 model 不會被 overwrite\n",
    "2. 請僅存入將 save_weights_only 設定為 True, 並嘗試 reset ipynb 並將模型與權重重新建回並預測 x_test"
   ]
  },
  {
   "cell_type": "code",
   "execution_count": 1,
   "metadata": {},
   "outputs": [
    {
     "name": "stderr",
     "output_type": "stream",
     "text": [
      "Using TensorFlow backend.\n"
     ]
    }
   ],
   "source": [
    "import os\n",
    "import keras\n",
    "\n",
    "# Disable GPU\n",
    "os.environ[\"CUDA_VISIBLE_DEVICES\"] = \"\""
   ]
  },
  {
   "cell_type": "code",
   "execution_count": 2,
   "metadata": {},
   "outputs": [],
   "source": [
    "train, test = keras.datasets.cifar10.load_data()"
   ]
  },
  {
   "cell_type": "code",
   "execution_count": 3,
   "metadata": {},
   "outputs": [],
   "source": [
    "## 資料前處理\n",
    "def preproc_x(x, flatten=True):\n",
    "    x = x / 255.\n",
    "    if flatten:\n",
    "        x = x.reshape((len(x), -1))\n",
    "    return x\n",
    "\n",
    "def preproc_y(y, num_classes=10):\n",
    "    if y.shape[-1] == 1:\n",
    "        y = keras.utils.to_categorical(y, num_classes)\n",
    "    return y    "
   ]
  },
  {
   "cell_type": "code",
   "execution_count": 4,
   "metadata": {},
   "outputs": [],
   "source": [
    "x_train, y_train = train\n",
    "x_test, y_test = test\n",
    "\n",
    "# Preproc the inputs\n",
    "x_train = preproc_x(x_train)\n",
    "x_test = preproc_x(x_test)\n",
    "\n",
    "# Preprc the outputs\n",
    "y_train = preproc_y(y_train)\n",
    "y_test = preproc_y(y_test)"
   ]
  },
  {
   "cell_type": "code",
   "execution_count": 5,
   "metadata": {},
   "outputs": [],
   "source": [
    "from keras.layers import BatchNormalization\n",
    "\n",
    "\"\"\"\n",
    "建立神經網路，並加入 BN layer\n",
    "\"\"\"\n",
    "def build_mlp(input_shape, output_units=10, num_neurons=[512, 256, 128]):\n",
    "    input_layer = keras.layers.Input(input_shape)\n",
    "    \n",
    "    for i, n_units in enumerate(num_neurons):\n",
    "        if i == 0:\n",
    "            x = keras.layers.Dense(units=n_units, \n",
    "                                   activation=\"relu\", \n",
    "                                   name=\"hidden_layer\"+str(i+1))(input_layer)\n",
    "            x = BatchNormalization()(x)\n",
    "        else:\n",
    "            x = keras.layers.Dense(units=n_units, \n",
    "                                   activation=\"relu\", \n",
    "                                   name=\"hidden_layer\"+str(i+1))(x)\n",
    "            x = BatchNormalization()(x)\n",
    "    \n",
    "    out = keras.layers.Dense(units=output_units, activation=\"softmax\", name=\"output\")(x)\n",
    "    \n",
    "    model = keras.models.Model(inputs=[input_layer], outputs=[out])\n",
    "    return model"
   ]
  },
  {
   "cell_type": "code",
   "execution_count": 7,
   "metadata": {},
   "outputs": [],
   "source": [
    "## 超參數設定\n",
    "LEARNING_RATE = 1e-3\n",
    "EPOCHS = 20\n",
    "BATCH_SIZE = 1024\n",
    "MOMENTUM = 0.95"
   ]
  },
  {
   "cell_type": "code",
   "execution_count": 13,
   "metadata": {},
   "outputs": [],
   "source": [
    "# 載入 Callbacks\n",
    "\"\"\"Code Here\n",
    "設定 callbacks: model checkpoint\n",
    "\"\"\"\n",
    "from keras.callbacks import ModelCheckpoint\n",
    "\n",
    "model_ckpt = ModelCheckpoint(filepath=\"/Users/ben/WorkGit/Python/2nd_ML100Days/2nd-ML100Days/model/d86_hw_1.h5\", \n",
    "                             monitor=\"val_loss\", \n",
    "                             save_best_only=True)\n"
   ]
  },
  {
   "cell_type": "code",
   "execution_count": 15,
   "metadata": {},
   "outputs": [
    {
     "name": "stdout",
     "output_type": "stream",
     "text": [
      "_________________________________________________________________\n",
      "Layer (type)                 Output Shape              Param #   \n",
      "=================================================================\n",
      "input_4 (InputLayer)         (None, 3072)              0         \n",
      "_________________________________________________________________\n",
      "hidden_layer1 (Dense)        (None, 512)               1573376   \n",
      "_________________________________________________________________\n",
      "batch_normalization_10 (Batc (None, 512)               2048      \n",
      "_________________________________________________________________\n",
      "hidden_layer2 (Dense)        (None, 256)               131328    \n",
      "_________________________________________________________________\n",
      "batch_normalization_11 (Batc (None, 256)               1024      \n",
      "_________________________________________________________________\n",
      "hidden_layer3 (Dense)        (None, 128)               32896     \n",
      "_________________________________________________________________\n",
      "batch_normalization_12 (Batc (None, 128)               512       \n",
      "_________________________________________________________________\n",
      "output (Dense)               (None, 10)                1290      \n",
      "=================================================================\n",
      "Total params: 1,742,474\n",
      "Trainable params: 1,740,682\n",
      "Non-trainable params: 1,792\n",
      "_________________________________________________________________\n",
      "Train on 50000 samples, validate on 10000 samples\n",
      "Epoch 1/20\n",
      "50000/50000 [==============================] - 9s 186us/step - loss: 2.2306 - acc: 0.2729 - val_loss: 2.1236 - val_acc: 0.3160\n",
      "Epoch 2/20\n",
      "50000/50000 [==============================] - 7s 143us/step - loss: 1.7482 - acc: 0.3941 - val_loss: 1.8424 - val_acc: 0.3793\n",
      "Epoch 3/20\n",
      "50000/50000 [==============================] - 9s 171us/step - loss: 1.6179 - acc: 0.4332 - val_loss: 1.6966 - val_acc: 0.4162\n",
      "Epoch 4/20\n",
      "50000/50000 [==============================] - 8s 162us/step - loss: 1.5433 - acc: 0.4605 - val_loss: 1.6508 - val_acc: 0.4259\n",
      "Epoch 5/20\n",
      "50000/50000 [==============================] - 7s 146us/step - loss: 1.4865 - acc: 0.4807 - val_loss: 1.6113 - val_acc: 0.4389\n",
      "Epoch 6/20\n",
      "50000/50000 [==============================] - 7s 147us/step - loss: 1.4410 - acc: 0.4964 - val_loss: 1.5697 - val_acc: 0.4548\n",
      "Epoch 7/20\n",
      "50000/50000 [==============================] - 7s 144us/step - loss: 1.3998 - acc: 0.5116 - val_loss: 1.5698 - val_acc: 0.4500\n",
      "Epoch 8/20\n",
      "50000/50000 [==============================] - 7s 145us/step - loss: 1.3637 - acc: 0.5255 - val_loss: 1.5287 - val_acc: 0.4653\n",
      "Epoch 9/20\n",
      "50000/50000 [==============================] - 7s 149us/step - loss: 1.3293 - acc: 0.5387 - val_loss: 1.5115 - val_acc: 0.4714\n",
      "Epoch 10/20\n",
      "50000/50000 [==============================] - 7s 144us/step - loss: 1.2992 - acc: 0.5487 - val_loss: 1.5017 - val_acc: 0.4727\n",
      "Epoch 11/20\n",
      "50000/50000 [==============================] - 7s 145us/step - loss: 1.2686 - acc: 0.5605 - val_loss: 1.4970 - val_acc: 0.4781\n",
      "Epoch 12/20\n",
      "50000/50000 [==============================] - 7s 145us/step - loss: 1.2397 - acc: 0.5726 - val_loss: 1.4855 - val_acc: 0.4848\n",
      "Epoch 13/20\n",
      "50000/50000 [==============================] - 7s 145us/step - loss: 1.2147 - acc: 0.5808 - val_loss: 1.4844 - val_acc: 0.4821\n",
      "Epoch 14/20\n",
      "50000/50000 [==============================] - 7s 147us/step - loss: 1.1889 - acc: 0.5889 - val_loss: 1.4686 - val_acc: 0.4792\n",
      "Epoch 15/20\n",
      "50000/50000 [==============================] - 7s 143us/step - loss: 1.1639 - acc: 0.6018 - val_loss: 1.4739 - val_acc: 0.4812\n",
      "Epoch 16/20\n",
      "50000/50000 [==============================] - 7s 145us/step - loss: 1.1426 - acc: 0.6090 - val_loss: 1.4735 - val_acc: 0.4868\n",
      "Epoch 17/20\n",
      "50000/50000 [==============================] - 7s 144us/step - loss: 1.1185 - acc: 0.6162 - val_loss: 1.4592 - val_acc: 0.4863\n",
      "Epoch 18/20\n",
      "50000/50000 [==============================] - 8s 150us/step - loss: 1.0944 - acc: 0.6257 - val_loss: 1.4542 - val_acc: 0.4933\n",
      "Epoch 19/20\n",
      "50000/50000 [==============================] - 7s 144us/step - loss: 1.0734 - acc: 0.6356 - val_loss: 1.4771 - val_acc: 0.4894\n",
      "Epoch 20/20\n",
      "50000/50000 [==============================] - 7s 145us/step - loss: 1.0527 - acc: 0.6415 - val_loss: 1.4574 - val_acc: 0.4953\n"
     ]
    }
   ],
   "source": [
    "results = {}\n",
    "\"\"\"Code Here\n",
    "撰寫你的訓練流程並將結果用 dictionary 紀錄\n",
    "\"\"\"\n",
    "\n",
    "model = build_mlp(input_shape=x_train.shape[1:])\n",
    "model.summary()\n",
    "optimizer = keras.optimizers.SGD(lr=LEARNING_RATE, nesterov=True, momentum=MOMENTUM)\n",
    "model.compile(loss=\"categorical_crossentropy\", metrics=[\"accuracy\"], optimizer=optimizer)\n",
    "\n",
    "model.fit(x_train, y_train, \n",
    "          epochs=EPOCHS, \n",
    "          batch_size=BATCH_SIZE, \n",
    "          validation_data=(x_test, y_test), \n",
    "          shuffle=True,\n",
    "          callbacks=[model_ckpt]\n",
    "         )\n",
    "\n",
    "# Collect results\n",
    "train_loss = model.history.history[\"loss\"]\n",
    "valid_loss = model.history.history[\"val_loss\"]\n",
    "train_acc = model.history.history[\"acc\"]\n",
    "valid_acc = model.history.history[\"val_acc\"]\n",
    "\n"
   ]
  },
  {
   "cell_type": "code",
   "execution_count": 16,
   "metadata": {},
   "outputs": [
    {
     "name": "stdout",
     "output_type": "stream",
     "text": [
      "10000/10000 [==============================] - 2s 151us/step\n"
     ]
    }
   ],
   "source": [
    "# Load back\n",
    "model = keras.models.load_model(\"/Users/ben/WorkGit/Python/2nd_ML100Days/2nd-ML100Days/model/d86_tmp.h5\")\n",
    "loss_loadback, acc_loadback = model.evaluate(x_test, y_test)"
   ]
  },
  {
   "cell_type": "code",
   "execution_count": null,
   "metadata": {
    "scrolled": true
   },
   "outputs": [],
   "source": [
    "import matplotlib.pyplot as plt\n",
    "%matplotlib inline\n",
    "\"\"\"Code Here\n",
    "將結果繪出\n",
    "\"\"\""
   ]
  },
  {
   "cell_type": "code",
   "execution_count": 17,
   "metadata": {},
   "outputs": [
    {
     "name": "stdout",
     "output_type": "stream",
     "text": [
      "0.4907\n"
     ]
    }
   ],
   "source": []
  },
  {
   "cell_type": "code",
   "execution_count": null,
   "metadata": {},
   "outputs": [],
   "source": []
  }
 ],
 "metadata": {
  "kernelspec": {
   "display_name": "Python 3",
   "language": "python",
   "name": "python3"
  },
  "language_info": {
   "codemirror_mode": {
    "name": "ipython",
    "version": 3
   },
   "file_extension": ".py",
   "mimetype": "text/x-python",
   "name": "python",
   "nbconvert_exporter": "python",
   "pygments_lexer": "ipython3",
   "version": "3.7.3"
  }
 },
 "nbformat": 4,
 "nbformat_minor": 2
}
