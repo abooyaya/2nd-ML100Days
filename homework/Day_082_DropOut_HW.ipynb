{
 "cells": [
  {
   "cell_type": "markdown",
   "metadata": {},
   "source": [
    "## Work\n",
    "1. 請比較使用不同層數以及不同 Dropout rate 對訓練的效果\n",
    "- 5層 drop out rate 0.1: loss: 1.1513 - acc: 0.5884 - val_loss: 1.3102 - val_acc: 0.5331\n",
    "- 5層 drop out rate 0.2(1e-3 -> le-2): loss: loss: 1.2990 - acc: 0.5402 - val_loss: 1.3352 - val_acc: 0.5267\n",
    "\n",
    "\n",
    "2. 將 optimizer 改成使用 Adam 並加上適當的 dropout rate 檢視結果\n",
    "- 5層 drop out rate 0.1: loss: 1.2519 - acc: 0.5506 - val_loss: 1.3725 - val_acc: 0.5127\n",
    "\n"
   ]
  },
  {
   "cell_type": "code",
   "execution_count": 1,
   "metadata": {},
   "outputs": [
    {
     "name": "stderr",
     "output_type": "stream",
     "text": [
      "Using TensorFlow backend.\n"
     ]
    }
   ],
   "source": [
    "import os\n",
    "import keras\n",
    "import itertools\n",
    "# Disable GPU\n",
    "os.environ[\"CUDA_VISIBLE_DEVICES\"] = \"\""
   ]
  },
  {
   "cell_type": "code",
   "execution_count": 2,
   "metadata": {},
   "outputs": [],
   "source": [
    "train, test = keras.datasets.cifar10.load_data()"
   ]
  },
  {
   "cell_type": "code",
   "execution_count": 3,
   "metadata": {},
   "outputs": [],
   "source": [
    "## 資料前處理\n",
    "def preproc_x(x, flatten=True):\n",
    "    x = x / 255.\n",
    "    if flatten:\n",
    "        x = x.reshape((len(x), -1))\n",
    "    return x\n",
    "\n",
    "def preproc_y(y, num_classes=10):\n",
    "    if y.shape[-1] == 1:\n",
    "        y = keras.utils.to_categorical(y, num_classes)\n",
    "    return y    "
   ]
  },
  {
   "cell_type": "code",
   "execution_count": 4,
   "metadata": {},
   "outputs": [],
   "source": [
    "x_train, y_train = train\n",
    "x_test, y_test = test\n",
    "\n",
    "# Preproc the inputs\n",
    "x_train = preproc_x(x_train)\n",
    "x_test = preproc_x(x_test)\n",
    "\n",
    "# Preprc the outputs\n",
    "y_train = preproc_y(y_train)\n",
    "y_test = preproc_y(y_test)"
   ]
  },
  {
   "cell_type": "code",
   "execution_count": 5,
   "metadata": {},
   "outputs": [],
   "source": [
    "from keras.layers import Dropout\n",
    "\n",
    "\"\"\"\n",
    "建立神經網路，並加入 dropout layer\n",
    "\"\"\"\n",
    "def build_mlp(input_shape, output_units=10, num_neurons=[512, 256, 128, 128, 64], drp_ratio=0.1):\n",
    "    input_layer = keras.layers.Input(input_shape)\n",
    "    \n",
    "    for i, n_units in enumerate(num_neurons):\n",
    "        if i == 0:\n",
    "            x = keras.layers.Dense(units=n_units, \n",
    "                                   activation=\"relu\", \n",
    "                                   name=\"hidden_layer\"+str(i+1))(input_layer)\n",
    "            x = Dropout(drp_ratio)(x)\n",
    "        else:\n",
    "            x = keras.layers.Dense(units=n_units, \n",
    "                                   activation=\"relu\", \n",
    "                                   name=\"hidden_layer\"+str(i+1))(x)\n",
    "            x = Dropout(drp_ratio)(x)\n",
    "    \n",
    "    out = keras.layers.Dense(units=output_units, activation=\"softmax\", name=\"output\")(x)\n",
    "    \n",
    "    model = keras.models.Model(inputs=[input_layer], outputs=[out])\n",
    "    return model"
   ]
  },
  {
   "cell_type": "code",
   "execution_count": 10,
   "metadata": {},
   "outputs": [],
   "source": [
    "## 超參數設定\n",
    "LEARNING_RATE = 1e-2\n",
    "EPOCHS = 50\n",
    "BATCH_SIZE = 256\n",
    "MOMENTUM = 0.95\n",
    "Dropout_EXP = 0.2"
   ]
  },
  {
   "cell_type": "code",
   "execution_count": 11,
   "metadata": {
    "scrolled": true
   },
   "outputs": [
    {
     "name": "stdout",
     "output_type": "stream",
     "text": [
      "_________________________________________________________________\n",
      "Layer (type)                 Output Shape              Param #   \n",
      "=================================================================\n",
      "input_3 (InputLayer)         (None, 3072)              0         \n",
      "_________________________________________________________________\n",
      "hidden_layer1 (Dense)        (None, 512)               1573376   \n",
      "_________________________________________________________________\n",
      "dropout_11 (Dropout)         (None, 512)               0         \n",
      "_________________________________________________________________\n",
      "hidden_layer2 (Dense)        (None, 256)               131328    \n",
      "_________________________________________________________________\n",
      "dropout_12 (Dropout)         (None, 256)               0         \n",
      "_________________________________________________________________\n",
      "hidden_layer3 (Dense)        (None, 128)               32896     \n",
      "_________________________________________________________________\n",
      "dropout_13 (Dropout)         (None, 128)               0         \n",
      "_________________________________________________________________\n",
      "hidden_layer4 (Dense)        (None, 128)               16512     \n",
      "_________________________________________________________________\n",
      "dropout_14 (Dropout)         (None, 128)               0         \n",
      "_________________________________________________________________\n",
      "hidden_layer5 (Dense)        (None, 64)                8256      \n",
      "_________________________________________________________________\n",
      "dropout_15 (Dropout)         (None, 64)                0         \n",
      "_________________________________________________________________\n",
      "output (Dense)               (None, 10)                650       \n",
      "=================================================================\n",
      "Total params: 1,763,018\n",
      "Trainable params: 1,763,018\n",
      "Non-trainable params: 0\n",
      "_________________________________________________________________\n",
      "Train on 50000 samples, validate on 10000 samples\n",
      "Epoch 1/50\n",
      "50000/50000 [==============================] - 9s 184us/step - loss: 2.1010 - acc: 0.2038 - val_loss: 1.8987 - val_acc: 0.3045\n",
      "Epoch 2/50\n",
      "50000/50000 [==============================] - 9s 171us/step - loss: 1.8967 - acc: 0.2975 - val_loss: 1.7683 - val_acc: 0.3561\n",
      "Epoch 3/50\n",
      "50000/50000 [==============================] - 10s 205us/step - loss: 1.8196 - acc: 0.3364 - val_loss: 1.7138 - val_acc: 0.3799\n",
      "Epoch 4/50\n",
      "50000/50000 [==============================] - 11s 212us/step - loss: 1.7655 - acc: 0.3612 - val_loss: 1.6626 - val_acc: 0.4191\n",
      "Epoch 5/50\n",
      "50000/50000 [==============================] - 11s 217us/step - loss: 1.7278 - acc: 0.3767 - val_loss: 1.6366 - val_acc: 0.4172\n",
      "Epoch 6/50\n",
      "50000/50000 [==============================] - 12s 233us/step - loss: 1.6960 - acc: 0.3897 - val_loss: 1.6020 - val_acc: 0.4360\n",
      "Epoch 7/50\n",
      "50000/50000 [==============================] - 12s 231us/step - loss: 1.6755 - acc: 0.3969 - val_loss: 1.5656 - val_acc: 0.4524\n",
      "Epoch 8/50\n",
      "50000/50000 [==============================] - 18s 351us/step - loss: 1.6561 - acc: 0.4079 - val_loss: 1.5539 - val_acc: 0.4501\n",
      "Epoch 9/50\n",
      "50000/50000 [==============================] - 12s 246us/step - loss: 1.6304 - acc: 0.4153 - val_loss: 1.5498 - val_acc: 0.4504\n",
      "Epoch 10/50\n",
      "50000/50000 [==============================] - 16s 316us/step - loss: 1.6130 - acc: 0.4249 - val_loss: 1.5078 - val_acc: 0.4627\n",
      "Epoch 11/50\n",
      "50000/50000 [==============================] - 12s 238us/step - loss: 1.5956 - acc: 0.4301 - val_loss: 1.5049 - val_acc: 0.4648\n",
      "Epoch 12/50\n",
      "50000/50000 [==============================] - 12s 250us/step - loss: 1.5908 - acc: 0.4307 - val_loss: 1.5060 - val_acc: 0.4678\n",
      "Epoch 13/50\n",
      "50000/50000 [==============================] - 10s 201us/step - loss: 1.5689 - acc: 0.4403 - val_loss: 1.4756 - val_acc: 0.4769\n",
      "Epoch 14/50\n",
      "50000/50000 [==============================] - 13s 254us/step - loss: 1.5609 - acc: 0.4415 - val_loss: 1.5258 - val_acc: 0.4543\n",
      "Epoch 15/50\n",
      "50000/50000 [==============================] - 12s 237us/step - loss: 1.5475 - acc: 0.4469 - val_loss: 1.4931 - val_acc: 0.4656\n",
      "Epoch 16/50\n",
      "50000/50000 [==============================] - 12s 239us/step - loss: 1.5358 - acc: 0.4521 - val_loss: 1.4684 - val_acc: 0.4725\n",
      "Epoch 17/50\n",
      "50000/50000 [==============================] - 13s 264us/step - loss: 1.5231 - acc: 0.4585 - val_loss: 1.4700 - val_acc: 0.4809\n",
      "Epoch 18/50\n",
      "50000/50000 [==============================] - 12s 245us/step - loss: 1.5222 - acc: 0.4540 - val_loss: 1.4638 - val_acc: 0.4749\n",
      "Epoch 19/50\n",
      "50000/50000 [==============================] - 13s 258us/step - loss: 1.5074 - acc: 0.4619 - val_loss: 1.4473 - val_acc: 0.4870\n",
      "Epoch 20/50\n",
      "50000/50000 [==============================] - 11s 225us/step - loss: 1.4974 - acc: 0.4637 - val_loss: 1.4329 - val_acc: 0.4914\n",
      "Epoch 21/50\n",
      "50000/50000 [==============================] - 11s 227us/step - loss: 1.4856 - acc: 0.4692 - val_loss: 1.4196 - val_acc: 0.4903\n",
      "Epoch 22/50\n",
      "50000/50000 [==============================] - 11s 225us/step - loss: 1.4764 - acc: 0.4746 - val_loss: 1.4164 - val_acc: 0.4894\n",
      "Epoch 23/50\n",
      "50000/50000 [==============================] - 14s 281us/step - loss: 1.4625 - acc: 0.4776 - val_loss: 1.4306 - val_acc: 0.4867\n",
      "Epoch 24/50\n",
      "50000/50000 [==============================] - 13s 256us/step - loss: 1.4579 - acc: 0.4828 - val_loss: 1.4201 - val_acc: 0.4952\n",
      "Epoch 25/50\n",
      "50000/50000 [==============================] - 12s 248us/step - loss: 1.4511 - acc: 0.4842 - val_loss: 1.4102 - val_acc: 0.4900\n",
      "Epoch 26/50\n",
      "50000/50000 [==============================] - 10s 205us/step - loss: 1.4432 - acc: 0.4852 - val_loss: 1.4212 - val_acc: 0.4961\n",
      "Epoch 27/50\n",
      "50000/50000 [==============================] - 12s 247us/step - loss: 1.4365 - acc: 0.4890 - val_loss: 1.4156 - val_acc: 0.4878\n",
      "Epoch 28/50\n",
      "50000/50000 [==============================] - 16s 326us/step - loss: 1.4303 - acc: 0.4911 - val_loss: 1.4026 - val_acc: 0.4971\n",
      "Epoch 29/50\n",
      "50000/50000 [==============================] - 19s 382us/step - loss: 1.4193 - acc: 0.4947 - val_loss: 1.4134 - val_acc: 0.4989\n",
      "Epoch 30/50\n",
      "50000/50000 [==============================] - 12s 233us/step - loss: 1.4140 - acc: 0.4945 - val_loss: 1.3736 - val_acc: 0.5065\n",
      "Epoch 31/50\n",
      "50000/50000 [==============================] - 12s 238us/step - loss: 1.4088 - acc: 0.4991 - val_loss: 1.3712 - val_acc: 0.5139\n",
      "Epoch 32/50\n",
      "50000/50000 [==============================] - 13s 259us/step - loss: 1.3977 - acc: 0.5023 - val_loss: 1.3657 - val_acc: 0.5104\n",
      "Epoch 33/50\n",
      "50000/50000 [==============================] - 10s 191us/step - loss: 1.3910 - acc: 0.5059 - val_loss: 1.3696 - val_acc: 0.5069\n",
      "Epoch 34/50\n",
      "50000/50000 [==============================] - 9s 188us/step - loss: 1.3804 - acc: 0.5078 - val_loss: 1.3833 - val_acc: 0.5046\n",
      "Epoch 35/50\n",
      "50000/50000 [==============================] - 9s 190us/step - loss: 1.3874 - acc: 0.5046 - val_loss: 1.4061 - val_acc: 0.4961\n",
      "Epoch 36/50\n",
      "50000/50000 [==============================] - 9s 188us/step - loss: 1.3836 - acc: 0.5068 - val_loss: 1.3597 - val_acc: 0.5125\n",
      "Epoch 37/50\n",
      "50000/50000 [==============================] - 10s 200us/step - loss: 1.3673 - acc: 0.5159 - val_loss: 1.3890 - val_acc: 0.5097\n",
      "Epoch 38/50\n",
      "50000/50000 [==============================] - 13s 266us/step - loss: 1.3656 - acc: 0.5138 - val_loss: 1.3677 - val_acc: 0.5129\n",
      "Epoch 39/50\n",
      "50000/50000 [==============================] - 11s 220us/step - loss: 1.3633 - acc: 0.5156 - val_loss: 1.3553 - val_acc: 0.5169\n",
      "Epoch 40/50\n",
      "50000/50000 [==============================] - 10s 191us/step - loss: 1.3470 - acc: 0.5220 - val_loss: 1.3592 - val_acc: 0.5194\n",
      "Epoch 41/50\n",
      "50000/50000 [==============================] - 9s 187us/step - loss: 1.3392 - acc: 0.5208 - val_loss: 1.3534 - val_acc: 0.5154\n",
      "Epoch 42/50\n",
      "50000/50000 [==============================] - 9s 188us/step - loss: 1.3378 - acc: 0.5268 - val_loss: 1.3373 - val_acc: 0.5246\n",
      "Epoch 43/50\n",
      "50000/50000 [==============================] - 9s 188us/step - loss: 1.3352 - acc: 0.5259 - val_loss: 1.3268 - val_acc: 0.5262\n",
      "Epoch 44/50\n",
      "50000/50000 [==============================] - 9s 187us/step - loss: 1.3307 - acc: 0.5300 - val_loss: 1.3374 - val_acc: 0.5230\n",
      "Epoch 45/50\n"
     ]
    },
    {
     "name": "stdout",
     "output_type": "stream",
     "text": [
      "50000/50000 [==============================] - 9s 186us/step - loss: 1.3286 - acc: 0.5288 - val_loss: 1.3295 - val_acc: 0.5275\n",
      "Epoch 46/50\n",
      "50000/50000 [==============================] - 9s 186us/step - loss: 1.3160 - acc: 0.5335 - val_loss: 1.3561 - val_acc: 0.5178\n",
      "Epoch 47/50\n",
      "50000/50000 [==============================] - 9s 187us/step - loss: 1.3134 - acc: 0.5350 - val_loss: 1.3583 - val_acc: 0.5136\n",
      "Epoch 48/50\n",
      "50000/50000 [==============================] - 9s 186us/step - loss: 1.3089 - acc: 0.5373 - val_loss: 1.3451 - val_acc: 0.5227\n",
      "Epoch 49/50\n",
      "50000/50000 [==============================] - 9s 187us/step - loss: 1.3005 - acc: 0.5408 - val_loss: 1.3691 - val_acc: 0.5118\n",
      "Epoch 50/50\n",
      "50000/50000 [==============================] - 10s 199us/step - loss: 1.2990 - acc: 0.5402 - val_loss: 1.3352 - val_acc: 0.5267\n"
     ]
    }
   ],
   "source": [
    "results = {}\n",
    "model = build_mlp(input_shape=x_train.shape[1:], drp_ratio=Dropout_EXP)\n",
    "model.summary()\n",
    "optimizer = keras.optimizers.SGD(lr=LEARNING_RATE, nesterov=True, momentum=MOMENTUM)\n",
    "#optimizer = keras.optimizers.Adam(lr=LEARNING_RATE)\n",
    "model.compile(loss=\"categorical_crossentropy\", metrics=[\"accuracy\"], optimizer=optimizer)\n",
    "\n",
    "model.fit(x_train, y_train, \n",
    "          epochs=EPOCHS, \n",
    "          batch_size=BATCH_SIZE, \n",
    "          validation_data=(x_test, y_test), \n",
    "          shuffle=True)\n",
    "\n",
    "# Collect results\n",
    "train_loss = model.history.history[\"loss\"]\n",
    "valid_loss = model.history.history[\"val_loss\"]\n",
    "train_acc = model.history.history[\"acc\"]\n",
    "valid_acc = model.history.history[\"val_acc\"]"
   ]
  },
  {
   "cell_type": "code",
   "execution_count": null,
   "metadata": {},
   "outputs": [],
   "source": [
    "import matplotlib.pyplot as plt\n",
    "%matplotlib inline\n",
    "\"\"\"Code Here\n",
    "將結果繪出\n",
    "\"\"\""
   ]
  }
 ],
 "metadata": {
  "kernelspec": {
   "display_name": "Python 3",
   "language": "python",
   "name": "python3"
  },
  "language_info": {
   "codemirror_mode": {
    "name": "ipython",
    "version": 3
   },
   "file_extension": ".py",
   "mimetype": "text/x-python",
   "name": "python",
   "nbconvert_exporter": "python",
   "pygments_lexer": "ipython3",
   "version": "3.7.3"
  }
 },
 "nbformat": 4,
 "nbformat_minor": 2
}
