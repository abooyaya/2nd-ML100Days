{
 "cells": [
  {
   "cell_type": "markdown",
   "metadata": {},
   "source": [
    "## 練習時間\n",
    "在小量的資料上，我們用眼睛就可以看得出來程式碼是否有跑出我們理想中的結果\n",
    "\n",
    "請嘗試想像一個你需要的資料結構 (裡面的值可以是隨機的)，然後用上述的方法把它變成 pandas DataFrame\n",
    "\n",
    "#### Ex: 想像一個 dataframe 有兩個欄位，一個是國家，一個是人口，求人口數最多的國家\n",
    "\n",
    "### Hints: [隨機產生數值](https://blog.csdn.net/christianashannon/article/details/78867204)"
   ]
  },
  {
   "cell_type": "code",
   "execution_count": 2,
   "metadata": {},
   "outputs": [],
   "source": [
    "import pandas as pd\n",
    "import numpy as np"
   ]
  },
  {
   "cell_type": "code",
   "execution_count": 33,
   "metadata": {},
   "outputs": [
    {
     "name": "stdout",
     "output_type": "stream",
     "text": [
      "       國家      人口\n",
      "0  Taiwan  772355\n",
      "1     USA  809991\n",
      "2   China  220041\n"
     ]
    }
   ],
   "source": [
    "data = {'國家': ['Taiwan', 'USA', 'China'],\n",
    "        '人口': np.random.randint(1,1000000,size=3).tolist()}\n",
    "      \n",
    "data = pd.DataFrame(data)\n",
    "\n",
    "print(data)"
   ]
  },
  {
   "cell_type": "code",
   "execution_count": 50,
   "metadata": {},
   "outputs": [
    {
     "name": "stdout",
     "output_type": "stream",
     "text": [
      "       國家      人口\n",
      "0  Taiwan  772355\n",
      "1     USA  809991\n",
      "2   China  220041\n",
      "    國家      人口\n",
      "1  USA  809991\n"
     ]
    }
   ],
   "source": [
    "#求人口數最多的國家\n",
    "print(data)\n",
    "\n",
    "\n",
    "#merged2_df[[\"WORK_MTHS\", \"cc_9538_9567\"]].groupby([\"WORK_MTHS\"], as_index=False).mean().sort_values(by='cc_9538_9567', ascending=False)\n",
    "\n",
    "#type(data[data.人口.max])\n",
    "\n",
    "print(data.sort_values(by='人口', ascending=False).head(1))\n",
    "\n",
    "\n",
    "\n",
    "\n",
    "\n"
   ]
  },
  {
   "cell_type": "code",
   "execution_count": null,
   "metadata": {},
   "outputs": [],
   "source": []
  }
 ],
 "metadata": {
  "kernelspec": {
   "display_name": "Python 3",
   "language": "python",
   "name": "python3"
  },
  "language_info": {
   "codemirror_mode": {
    "name": "ipython",
    "version": 3
   },
   "file_extension": ".py",
   "mimetype": "text/x-python",
   "name": "python",
   "nbconvert_exporter": "python",
   "pygments_lexer": "ipython3",
   "version": "3.7.0"
  }
 },
 "nbformat": 4,
 "nbformat_minor": 2
}
