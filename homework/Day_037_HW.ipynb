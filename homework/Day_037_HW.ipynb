{
 "cells": [
  {
   "cell_type": "markdown",
   "metadata": {},
   "source": [
    "## [作業重點]\n",
    "了解線性回歸的模型發展歷程，並了解優勢與劣勢，以及其使用情境"
   ]
  },
  {
   "cell_type": "markdown",
   "metadata": {},
   "source": [
    "## 作業"
   ]
  },
  {
   "cell_type": "markdown",
   "metadata": {},
   "source": [
    "請閱讀以下相關文獻，並回答以下問題\n",
    "\n",
    "[Linear Regression 詳細介紹](https://brohrer.mcknote.com/zh-Hant/how_machine_learning_works/how_linear_regression_works.html)\n",
    "\n",
    "[Logistics Regression 詳細介紹](https://medium.com/@yehjames/%E8%B3%87%E6%96%99%E5%88%86%E6%9E%90-%E6%A9%9F%E5%99%A8%E5%AD%B8%E7%BF%92-%E7%AC%AC3-3%E8%AC%9B-%E7%B7%9A%E6%80%A7%E5%88%86%E9%A1%9E-%E9%82%8F%E8%BC%AF%E6%96%AF%E5%9B%9E%E6%AD%B8-logistic-regression-%E4%BB%8B%E7%B4%B9-a1a5f47017e5)\n",
    "\n",
    "---\n",
    "額外補充的：\n",
    "你可能不知道的 Logistic Regression: https://taweihuang.hpd.io/2017/12/22/logreg101/\n",
    "\n",
    "超人氣 Stanford 教授 Andrew Ng 教你 Linear regression (強烈推薦觀看) : https://zh-tw.coursera.org/lecture/machine-learning/model-representation-db3jS\n",
    "\n",
    "Logistic regression 數學原理: https://blog.csdn.net/qq_23269761/article/details/81778585\n",
    "\n"
   ]
  },
  {
   "cell_type": "markdown",
   "metadata": {},
   "source": [
    "1. 線性回歸模型能夠準確預測非線性關係的資料集嗎?\n",
    "\n",
    "回答：如果可以把非線性關係的資料集轉換之後，變成線性關係，那還是可以用線性迴歸模型。\n",
    "\n",
    "2. 回歸模型是否對資料分布有基本假設?\n",
    "\n",
    "文章：回歸分析的5個假設(簡中：https://blog.csdn.net/Noob_daniel/article/details/76087829)\n",
    "(英文：https://www.analyticsvidhya.com/blog/2016/07/deeper-regression-analysis-assumptions-plots-solutions/)\n",
    "\n",
    "1. Linear and Additive(可加性：X1对Y的影响是独立于其他自变量（如X2）的。)\n",
    "2. 误差项（ε）之间应相互独立\n",
    "3. 自变量（X1，X2）之间应相互独立。\n",
    "4. 误差项（ε）的方差应为常数。\n",
    "5. 误差项（ε）应呈正态分布。\n",
    "\n",
    "predict real-valued output, \n"
   ]
  },
  {
   "cell_type": "code",
   "execution_count": null,
   "metadata": {},
   "outputs": [],
   "source": []
  }
 ],
 "metadata": {
  "kernelspec": {
   "display_name": "Python 3",
   "language": "python",
   "name": "python3"
  },
  "language_info": {
   "codemirror_mode": {
    "name": "ipython",
    "version": 3
   },
   "file_extension": ".py",
   "mimetype": "text/x-python",
   "name": "python",
   "nbconvert_exporter": "python",
   "pygments_lexer": "ipython3",
   "version": "3.7.2"
  }
 },
 "nbformat": 4,
 "nbformat_minor": 2
}
