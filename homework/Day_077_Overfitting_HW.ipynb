{
 "cells": [
  {
   "cell_type": "markdown",
   "metadata": {},
   "source": [
    "## Work\n",
    "1. 請將 Epoch 加到 500 個，並觀察 learning curve 的走勢\n",
    "2. 請將 Optimizer 換成 SGD，並觀察 learning curve 的走勢"
   ]
  },
  {
   "cell_type": "code",
   "execution_count": 2,
   "metadata": {},
   "outputs": [],
   "source": [
    "import os\n",
    "import keras\n",
    "\n",
    "# 本作業可以不需使用 GPU, 將 GPU 設定為 \"無\" (若有 GPU 且想開啟，可設為 \"0\")\n",
    "os.environ[\"CUDA_VISIBLE_DEVICES\"] = \"\""
   ]
  },
  {
   "cell_type": "code",
   "execution_count": 19,
   "metadata": {},
   "outputs": [],
   "source": [
    "# 從 Keras 的內建功能中，取得 train 與 test 資料集\n",
    "train, test = keras.datasets.cifar10.load_data()"
   ]
  },
  {
   "cell_type": "code",
   "execution_count": 20,
   "metadata": {},
   "outputs": [],
   "source": [
    "# 將 X 與 Y 獨立放進變數\n",
    "x_train, y_train = train\n",
    "x_test, y_test = test\n",
    "# 資料前處理 - 標準化\n",
    "x_train = x_train / 255.\n",
    "x_test = x_test / 255.\n",
    "\n",
    "# 將資料從圖形 (RGB) 轉為向量 (Single Vector)\n",
    "x_train = x_train.reshape((len(x_train), -1))\n",
    "x_test = x_test.reshape((len(x_test), -1))\n",
    "\n",
    "# 將目標轉為 one-hot encoding\n",
    "y_train = keras.utils.to_categorical(y_train, num_classes=10)\n",
    "y_test = keras.utils.to_categorical(y_test, num_classes=10)"
   ]
  },
  {
   "cell_type": "code",
   "execution_count": 21,
   "metadata": {},
   "outputs": [],
   "source": [
    "def build_mlp():\n",
    "    \"\"\"Code Here\n",
    "    建立你的神經網路\n",
    "    \"\"\"\n",
    "    input_layer = keras.layers.Input([x_train.shape[-1]])\n",
    "    x = keras.layers.Dense(units=512, activation=\"relu\")(input_layer)\n",
    "    x = keras.layers.Dense(units=256, activation=\"relu\")(x)\n",
    "    x = keras.layers.Dense(units=128, activation=\"relu\")(x)\n",
    "    out = keras.layers.Dense(units=10, activation=\"softmax\")(x)\n",
    "    \n",
    "    model = keras.models.Model(inputs=[input_layer], outputs=[out])\n",
    "    \n",
    "    return model\n",
    "\n",
    "model = build_mlp()"
   ]
  },
  {
   "cell_type": "code",
   "execution_count": 22,
   "metadata": {},
   "outputs": [
    {
     "name": "stdout",
     "output_type": "stream",
     "text": [
      "_________________________________________________________________\n",
      "Layer (type)                 Output Shape              Param #   \n",
      "=================================================================\n",
      "input_2 (InputLayer)         (None, 3072)              0         \n",
      "_________________________________________________________________\n",
      "dense_5 (Dense)              (None, 512)               1573376   \n",
      "_________________________________________________________________\n",
      "dense_6 (Dense)              (None, 256)               131328    \n",
      "_________________________________________________________________\n",
      "dense_7 (Dense)              (None, 128)               32896     \n",
      "_________________________________________________________________\n",
      "dense_8 (Dense)              (None, 10)                1290      \n",
      "=================================================================\n",
      "Total params: 1,738,890\n",
      "Trainable params: 1,738,890\n",
      "Non-trainable params: 0\n",
      "_________________________________________________________________\n"
     ]
    }
   ],
   "source": [
    "\"\"\"\n",
    "Compile 模型\n",
    "\"\"\"\n",
    "\n",
    "model.summary()\n",
    "\n",
    "#optimizer = keras.optimizers.Adam(lr=0.001)\n",
    "optimizer = keras.optimizers.SGD(lr=0.00001, decay=1e-6, momentum=0.6, nesterov=True)\n",
    "model.compile(loss=\"categorical_crossentropy\", metrics=[\"accuracy\"], optimizer=optimizer)\n"
   ]
  },
  {
   "cell_type": "code",
   "execution_count": 23,
   "metadata": {
    "scrolled": true
   },
   "outputs": [
    {
     "name": "stdout",
     "output_type": "stream",
     "text": [
      "Train on 50000 samples, validate on 10000 samples\n",
      "Epoch 1/100\n",
      "50000/50000 [==============================] - 15s 304us/step - loss: 2.3580 - acc: 0.0985 - val_loss: 2.3587 - val_acc: 0.1017\n",
      "Epoch 2/100\n",
      "50000/50000 [==============================] - 13s 262us/step - loss: 2.3448 - acc: 0.1048 - val_loss: 2.3465 - val_acc: 0.1063\n",
      "Epoch 3/100\n",
      "50000/50000 [==============================] - 13s 265us/step - loss: 2.3341 - acc: 0.1104 - val_loss: 2.3365 - val_acc: 0.1129\n",
      "Epoch 4/100\n",
      "50000/50000 [==============================] - 13s 265us/step - loss: 2.3253 - acc: 0.1153 - val_loss: 2.3281 - val_acc: 0.1171\n",
      "Epoch 5/100\n",
      "50000/50000 [==============================] - 13s 267us/step - loss: 2.3179 - acc: 0.1200 - val_loss: 2.3210 - val_acc: 0.1217\n",
      "Epoch 6/100\n",
      "50000/50000 [==============================] - 13s 269us/step - loss: 2.3114 - acc: 0.1238 - val_loss: 2.3147 - val_acc: 0.1252\n",
      "Epoch 7/100\n",
      "50000/50000 [==============================] - 16s 315us/step - loss: 2.3058 - acc: 0.1271 - val_loss: 2.3092 - val_acc: 0.1280\n",
      "Epoch 8/100\n",
      "50000/50000 [==============================] - 17s 345us/step - loss: 2.3008 - acc: 0.1305 - val_loss: 2.3043 - val_acc: 0.1314\n",
      "Epoch 9/100\n",
      "50000/50000 [==============================] - 17s 333us/step - loss: 2.2963 - acc: 0.1332 - val_loss: 2.2997 - val_acc: 0.1338\n",
      "Epoch 10/100\n",
      "50000/50000 [==============================] - 15s 292us/step - loss: 2.2921 - acc: 0.1359 - val_loss: 2.2955 - val_acc: 0.1363\n",
      "Epoch 11/100\n",
      "50000/50000 [==============================] - 13s 259us/step - loss: 2.2882 - acc: 0.1380 - val_loss: 2.2916 - val_acc: 0.1382\n",
      "Epoch 12/100\n",
      "50000/50000 [==============================] - 13s 261us/step - loss: 2.2845 - acc: 0.1410 - val_loss: 2.2879 - val_acc: 0.1403\n",
      "Epoch 13/100\n",
      "50000/50000 [==============================] - 13s 263us/step - loss: 2.2810 - acc: 0.1430 - val_loss: 2.2843 - val_acc: 0.1433\n",
      "Epoch 14/100\n",
      "50000/50000 [==============================] - 13s 258us/step - loss: 2.2777 - acc: 0.1451 - val_loss: 2.2809 - val_acc: 0.1459\n",
      "Epoch 15/100\n",
      "50000/50000 [==============================] - 13s 254us/step - loss: 2.2744 - acc: 0.1474 - val_loss: 2.2776 - val_acc: 0.1466\n",
      "Epoch 16/100\n",
      "50000/50000 [==============================] - 13s 259us/step - loss: 2.2714 - acc: 0.1498 - val_loss: 2.2744 - val_acc: 0.1469\n",
      "Epoch 17/100\n",
      "50000/50000 [==============================] - 13s 260us/step - loss: 2.2684 - acc: 0.1530 - val_loss: 2.2714 - val_acc: 0.1485\n",
      "Epoch 18/100\n",
      "50000/50000 [==============================] - 13s 260us/step - loss: 2.2655 - acc: 0.1550 - val_loss: 2.2684 - val_acc: 0.1500\n",
      "Epoch 19/100\n",
      "50000/50000 [==============================] - 13s 260us/step - loss: 2.2626 - acc: 0.1574 - val_loss: 2.2655 - val_acc: 0.1520\n",
      "Epoch 20/100\n",
      "50000/50000 [==============================] - 13s 257us/step - loss: 2.2599 - acc: 0.1604 - val_loss: 2.2628 - val_acc: 0.1546\n",
      "Epoch 21/100\n",
      "50000/50000 [==============================] - 13s 261us/step - loss: 2.2572 - acc: 0.1635 - val_loss: 2.2601 - val_acc: 0.1589\n",
      "Epoch 22/100\n",
      "50000/50000 [==============================] - 12s 250us/step - loss: 2.2546 - acc: 0.1663 - val_loss: 2.2574 - val_acc: 0.1618\n",
      "Epoch 23/100\n",
      "50000/50000 [==============================] - 13s 258us/step - loss: 2.2521 - acc: 0.1690 - val_loss: 2.2548 - val_acc: 0.1646\n",
      "Epoch 24/100\n",
      "50000/50000 [==============================] - 13s 258us/step - loss: 2.2496 - acc: 0.1716 - val_loss: 2.2523 - val_acc: 0.1681\n",
      "Epoch 25/100\n",
      "50000/50000 [==============================] - 13s 259us/step - loss: 2.2471 - acc: 0.1737 - val_loss: 2.2498 - val_acc: 0.1702\n",
      "Epoch 26/100\n",
      "50000/50000 [==============================] - 13s 262us/step - loss: 2.2447 - acc: 0.1766 - val_loss: 2.2474 - val_acc: 0.1719\n",
      "Epoch 27/100\n",
      "50000/50000 [==============================] - 13s 261us/step - loss: 2.2424 - acc: 0.1795 - val_loss: 2.2450 - val_acc: 0.1733\n",
      "Epoch 28/100\n",
      "50000/50000 [==============================] - 13s 265us/step - loss: 2.2401 - acc: 0.1818 - val_loss: 2.2427 - val_acc: 0.1750\n",
      "Epoch 29/100\n",
      "50000/50000 [==============================] - 13s 262us/step - loss: 2.2378 - acc: 0.1840 - val_loss: 2.2404 - val_acc: 0.1775\n",
      "Epoch 30/100\n",
      "50000/50000 [==============================] - 13s 264us/step - loss: 2.2355 - acc: 0.1860 - val_loss: 2.2381 - val_acc: 0.1818\n",
      "Epoch 31/100\n",
      "50000/50000 [==============================] - 13s 264us/step - loss: 2.2333 - acc: 0.1885 - val_loss: 2.2359 - val_acc: 0.1847\n",
      "Epoch 32/100\n",
      "50000/50000 [==============================] - 13s 264us/step - loss: 2.2312 - acc: 0.1910 - val_loss: 2.2337 - val_acc: 0.1872\n",
      "Epoch 33/100\n",
      "50000/50000 [==============================] - 13s 262us/step - loss: 2.2290 - acc: 0.1921 - val_loss: 2.2315 - val_acc: 0.1899\n",
      "Epoch 34/100\n",
      "50000/50000 [==============================] - 13s 260us/step - loss: 2.2269 - acc: 0.1945 - val_loss: 2.2294 - val_acc: 0.1918\n",
      "Epoch 35/100\n",
      "50000/50000 [==============================] - 13s 264us/step - loss: 2.2249 - acc: 0.1964 - val_loss: 2.2273 - val_acc: 0.1944\n",
      "Epoch 36/100\n",
      "50000/50000 [==============================] - 13s 265us/step - loss: 2.2228 - acc: 0.1979 - val_loss: 2.2253 - val_acc: 0.1976\n",
      "Epoch 37/100\n",
      "50000/50000 [==============================] - 13s 265us/step - loss: 2.2208 - acc: 0.1999 - val_loss: 2.2233 - val_acc: 0.1993\n",
      "Epoch 38/100\n",
      "50000/50000 [==============================] - 13s 260us/step - loss: 2.2188 - acc: 0.2012 - val_loss: 2.2213 - val_acc: 0.2009\n",
      "Epoch 39/100\n",
      "50000/50000 [==============================] - 13s 263us/step - loss: 2.2169 - acc: 0.2026 - val_loss: 2.2193 - val_acc: 0.2033\n",
      "Epoch 40/100\n",
      "50000/50000 [==============================] - 13s 263us/step - loss: 2.2150 - acc: 0.2045 - val_loss: 2.2174 - val_acc: 0.2046\n",
      "Epoch 41/100\n",
      "50000/50000 [==============================] - 13s 264us/step - loss: 2.2131 - acc: 0.2061 - val_loss: 2.2155 - val_acc: 0.2062\n",
      "Epoch 42/100\n",
      "50000/50000 [==============================] - 13s 267us/step - loss: 2.2112 - acc: 0.2075 - val_loss: 2.2137 - val_acc: 0.2075\n",
      "Epoch 43/100\n",
      "50000/50000 [==============================] - 13s 264us/step - loss: 2.2094 - acc: 0.2090 - val_loss: 2.2118 - val_acc: 0.2081\n",
      "Epoch 44/100\n",
      "50000/50000 [==============================] - 13s 265us/step - loss: 2.2075 - acc: 0.2109 - val_loss: 2.2100 - val_acc: 0.2096\n",
      "Epoch 45/100\n",
      "50000/50000 [==============================] - 13s 256us/step - loss: 2.2057 - acc: 0.2122 - val_loss: 2.2082 - val_acc: 0.2099\n",
      "Epoch 46/100\n",
      "50000/50000 [==============================] - 13s 266us/step - loss: 2.2040 - acc: 0.2137 - val_loss: 2.2064 - val_acc: 0.2126\n",
      "Epoch 47/100\n",
      "50000/50000 [==============================] - 13s 266us/step - loss: 2.2022 - acc: 0.2150 - val_loss: 2.2047 - val_acc: 0.2133\n",
      "Epoch 48/100\n",
      "50000/50000 [==============================] - 13s 267us/step - loss: 2.2005 - acc: 0.2162 - val_loss: 2.2030 - val_acc: 0.2147\n",
      "Epoch 49/100\n",
      "50000/50000 [==============================] - 13s 267us/step - loss: 2.1988 - acc: 0.2176 - val_loss: 2.2013 - val_acc: 0.2156\n",
      "Epoch 50/100\n",
      "50000/50000 [==============================] - 13s 266us/step - loss: 2.1971 - acc: 0.2192 - val_loss: 2.1996 - val_acc: 0.2176\n",
      "Epoch 51/100\n",
      "50000/50000 [==============================] - 13s 270us/step - loss: 2.1954 - acc: 0.2205 - val_loss: 2.1979 - val_acc: 0.2179\n",
      "Epoch 52/100\n",
      "50000/50000 [==============================] - 13s 265us/step - loss: 2.1938 - acc: 0.2213 - val_loss: 2.1963 - val_acc: 0.2193\n",
      "Epoch 53/100\n",
      "50000/50000 [==============================] - 13s 268us/step - loss: 2.1922 - acc: 0.2224 - val_loss: 2.1947 - val_acc: 0.2203\n",
      "Epoch 54/100\n",
      "50000/50000 [==============================] - 13s 267us/step - loss: 2.1906 - acc: 0.2239 - val_loss: 2.1931 - val_acc: 0.2216\n",
      "Epoch 55/100\n",
      "50000/50000 [==============================] - 13s 267us/step - loss: 2.1890 - acc: 0.2248 - val_loss: 2.1915 - val_acc: 0.2225\n",
      "Epoch 56/100\n",
      "50000/50000 [==============================] - 13s 268us/step - loss: 2.1874 - acc: 0.2260 - val_loss: 2.1899 - val_acc: 0.2235\n",
      "Epoch 57/100\n",
      "50000/50000 [==============================] - 13s 268us/step - loss: 2.1859 - acc: 0.2271 - val_loss: 2.1884 - val_acc: 0.2253\n",
      "Epoch 58/100\n",
      "50000/50000 [==============================] - 13s 267us/step - loss: 2.1844 - acc: 0.2286 - val_loss: 2.1868 - val_acc: 0.2270\n"
     ]
    },
    {
     "name": "stdout",
     "output_type": "stream",
     "text": [
      "Epoch 59/100\n",
      "50000/50000 [==============================] - 13s 254us/step - loss: 2.1828 - acc: 0.2296 - val_loss: 2.1853 - val_acc: 0.2281\n",
      "Epoch 60/100\n",
      "50000/50000 [==============================] - 13s 252us/step - loss: 2.1813 - acc: 0.2306 - val_loss: 2.1838 - val_acc: 0.2295\n",
      "Epoch 61/100\n",
      "50000/50000 [==============================] - 13s 252us/step - loss: 2.1798 - acc: 0.2315 - val_loss: 2.1823 - val_acc: 0.2302\n",
      "Epoch 62/100\n",
      "50000/50000 [==============================] - 13s 255us/step - loss: 2.1784 - acc: 0.2325 - val_loss: 2.1808 - val_acc: 0.2308\n",
      "Epoch 63/100\n",
      "50000/50000 [==============================] - 13s 254us/step - loss: 2.1769 - acc: 0.2336 - val_loss: 2.1793 - val_acc: 0.2329\n",
      "Epoch 64/100\n",
      "50000/50000 [==============================] - 13s 253us/step - loss: 2.1755 - acc: 0.2343 - val_loss: 2.1778 - val_acc: 0.2337\n",
      "Epoch 65/100\n",
      "50000/50000 [==============================] - 13s 252us/step - loss: 2.1740 - acc: 0.2352 - val_loss: 2.1763 - val_acc: 0.2353\n",
      "Epoch 66/100\n",
      "50000/50000 [==============================] - 13s 252us/step - loss: 2.1726 - acc: 0.2358 - val_loss: 2.1749 - val_acc: 0.2363\n",
      "Epoch 67/100\n",
      "50000/50000 [==============================] - 13s 254us/step - loss: 2.1712 - acc: 0.2366 - val_loss: 2.1734 - val_acc: 0.2379\n",
      "Epoch 68/100\n",
      "50000/50000 [==============================] - 12s 248us/step - loss: 2.1697 - acc: 0.2376 - val_loss: 2.1720 - val_acc: 0.2382\n",
      "Epoch 69/100\n",
      "50000/50000 [==============================] - 13s 254us/step - loss: 2.1683 - acc: 0.2380 - val_loss: 2.1706 - val_acc: 0.2393\n",
      "Epoch 70/100\n",
      "50000/50000 [==============================] - 13s 254us/step - loss: 2.1669 - acc: 0.2390 - val_loss: 2.1692 - val_acc: 0.2408\n",
      "Epoch 71/100\n",
      "50000/50000 [==============================] - 13s 260us/step - loss: 2.1655 - acc: 0.2397 - val_loss: 2.1677 - val_acc: 0.2408\n",
      "Epoch 72/100\n",
      "50000/50000 [==============================] - 13s 262us/step - loss: 2.1642 - acc: 0.2409 - val_loss: 2.1664 - val_acc: 0.2411\n",
      "Epoch 73/100\n",
      "50000/50000 [==============================] - 13s 263us/step - loss: 2.1628 - acc: 0.2420 - val_loss: 2.1650 - val_acc: 0.2418\n",
      "Epoch 74/100\n",
      "50000/50000 [==============================] - 13s 263us/step - loss: 2.1614 - acc: 0.2423 - val_loss: 2.1636 - val_acc: 0.2426\n",
      "Epoch 75/100\n",
      "50000/50000 [==============================] - 13s 264us/step - loss: 2.1601 - acc: 0.2433 - val_loss: 2.1622 - val_acc: 0.2437\n",
      "Epoch 76/100\n",
      "50000/50000 [==============================] - 13s 264us/step - loss: 2.1587 - acc: 0.2437 - val_loss: 2.1609 - val_acc: 0.2446\n",
      "Epoch 77/100\n",
      "50000/50000 [==============================] - 13s 265us/step - loss: 2.1574 - acc: 0.2445 - val_loss: 2.1595 - val_acc: 0.2453\n",
      "Epoch 78/100\n",
      "50000/50000 [==============================] - 13s 268us/step - loss: 2.1560 - acc: 0.2450 - val_loss: 2.1582 - val_acc: 0.2460\n",
      "Epoch 79/100\n",
      "50000/50000 [==============================] - 13s 266us/step - loss: 2.1547 - acc: 0.2461 - val_loss: 2.1569 - val_acc: 0.2463\n",
      "Epoch 80/100\n",
      "50000/50000 [==============================] - 13s 265us/step - loss: 2.1534 - acc: 0.2463 - val_loss: 2.1556 - val_acc: 0.2462\n",
      "Epoch 81/100\n",
      "50000/50000 [==============================] - 13s 268us/step - loss: 2.1521 - acc: 0.2470 - val_loss: 2.1543 - val_acc: 0.2464\n",
      "Epoch 82/100\n",
      "50000/50000 [==============================] - 13s 266us/step - loss: 2.1507 - acc: 0.2476 - val_loss: 2.1530 - val_acc: 0.2468\n",
      "Epoch 83/100\n",
      "50000/50000 [==============================] - 13s 267us/step - loss: 2.1494 - acc: 0.2483 - val_loss: 2.1517 - val_acc: 0.2479\n",
      "Epoch 84/100\n",
      "50000/50000 [==============================] - 14s 271us/step - loss: 2.1481 - acc: 0.2489 - val_loss: 2.1504 - val_acc: 0.2487\n",
      "Epoch 85/100\n",
      "50000/50000 [==============================] - 14s 272us/step - loss: 2.1469 - acc: 0.2499 - val_loss: 2.1491 - val_acc: 0.2494\n",
      "Epoch 86/100\n",
      "50000/50000 [==============================] - 14s 272us/step - loss: 2.1456 - acc: 0.2505 - val_loss: 2.1478 - val_acc: 0.2503\n",
      "Epoch 87/100\n",
      "50000/50000 [==============================] - 14s 273us/step - loss: 2.1443 - acc: 0.2510 - val_loss: 2.1465 - val_acc: 0.2507\n",
      "Epoch 88/100\n",
      "50000/50000 [==============================] - 14s 272us/step - loss: 2.1430 - acc: 0.2515 - val_loss: 2.1452 - val_acc: 0.2510\n",
      "Epoch 89/100\n",
      "50000/50000 [==============================] - 14s 275us/step - loss: 2.1418 - acc: 0.2522 - val_loss: 2.1440 - val_acc: 0.2514\n",
      "Epoch 90/100\n",
      "50000/50000 [==============================] - 14s 270us/step - loss: 2.1405 - acc: 0.2528 - val_loss: 2.1427 - val_acc: 0.2516\n",
      "Epoch 91/100\n",
      "50000/50000 [==============================] - 13s 261us/step - loss: 2.1393 - acc: 0.2530 - val_loss: 2.1415 - val_acc: 0.2524\n",
      "Epoch 92/100\n",
      "50000/50000 [==============================] - 13s 269us/step - loss: 2.1381 - acc: 0.2537 - val_loss: 2.1403 - val_acc: 0.2534\n",
      "Epoch 93/100\n",
      "50000/50000 [==============================] - 13s 267us/step - loss: 2.1368 - acc: 0.2542 - val_loss: 2.1390 - val_acc: 0.2539\n",
      "Epoch 94/100\n",
      "50000/50000 [==============================] - 13s 265us/step - loss: 2.1356 - acc: 0.2550 - val_loss: 2.1378 - val_acc: 0.2537\n",
      "Epoch 95/100\n",
      "50000/50000 [==============================] - 13s 266us/step - loss: 2.1344 - acc: 0.2555 - val_loss: 2.1366 - val_acc: 0.2539\n",
      "Epoch 96/100\n",
      "50000/50000 [==============================] - 13s 267us/step - loss: 2.1332 - acc: 0.2558 - val_loss: 2.1354 - val_acc: 0.2539\n",
      "Epoch 97/100\n",
      "50000/50000 [==============================] - 13s 266us/step - loss: 2.1320 - acc: 0.2563 - val_loss: 2.1342 - val_acc: 0.2543\n",
      "Epoch 98/100\n",
      "50000/50000 [==============================] - 13s 268us/step - loss: 2.1308 - acc: 0.2567 - val_loss: 2.1330 - val_acc: 0.2550\n",
      "Epoch 99/100\n",
      "50000/50000 [==============================] - 13s 265us/step - loss: 2.1297 - acc: 0.2573 - val_loss: 2.1319 - val_acc: 0.2553\n",
      "Epoch 100/100\n",
      "50000/50000 [==============================] - 13s 267us/step - loss: 2.1285 - acc: 0.2581 - val_loss: 2.1307 - val_acc: 0.2562\n"
     ]
    },
    {
     "data": {
      "text/plain": [
       "<keras.callbacks.History at 0xb5a89b278>"
      ]
     },
     "execution_count": 23,
     "metadata": {},
     "output_type": "execute_result"
    }
   ],
   "source": [
    "\"\"\"\n",
    "設定要訓練的 Epoch 數\n",
    "\"\"\"\n",
    "model.fit(x_train, y_train, \n",
    "          epochs=100, \n",
    "          batch_size=256, \n",
    "          validation_data=(x_test, y_test), \n",
    "          shuffle=True)"
   ]
  },
  {
   "cell_type": "code",
   "execution_count": 24,
   "metadata": {},
   "outputs": [
    {
     "data": {
      "image/png": "[encoded data removed]",
      "text/plain": [
       "<Figure size 432x288 with 1 Axes>"
      ]
     },
     "metadata": {
      "needs_background": "light"
     },
     "output_type": "display_data"
    },
    {
     "data": {
      "image/png": "[encoded data removed]",
      "text/plain": [
       "<Figure size 432x288 with 1 Axes>"
      ]
     },
     "metadata": {
      "needs_background": "light"
     },
     "output_type": "display_data"
    }
   ],
   "source": [
    "import matplotlib.pyplot as plt\n",
    "%matplotlib inline\n",
    "# 以視覺畫方式檢視訓練過程\n",
    "#Adam\n",
    "\n",
    "train_loss = model.history.history[\"loss\"]\n",
    "valid_loss = model.history.history[\"val_loss\"]\n",
    "\n",
    "train_acc = model.history.history[\"acc\"]\n",
    "valid_acc = model.history.history[\"val_acc\"]\n",
    "\n",
    "plt.plot(range(len(train_loss)), train_loss, label=\"train loss\")\n",
    "plt.plot(range(len(valid_loss)), valid_loss, label=\"valid loss\")\n",
    "plt.legend()\n",
    "plt.title(\"Loss\")\n",
    "plt.show()\n",
    "\n",
    "plt.plot(range(len(train_acc)), train_acc, label=\"train accuracy\")\n",
    "plt.plot(range(len(valid_acc)), valid_acc, label=\"valid accuracy\")\n",
    "plt.legend()\n",
    "plt.title(\"Accuracy\")\n",
    "plt.show()"
   ]
  },
  {
   "cell_type": "code",
   "execution_count": 16,
   "metadata": {},
   "outputs": [
    {
     "data": {
      "image/png": "[encoded data removed]",
      "text/plain": [
       "<Figure size 432x288 with 1 Axes>"
      ]
     },
     "metadata": {
      "needs_background": "light"
     },
     "output_type": "display_data"
    },
    {
     "data": {
      "image/png": "[encoded data removed]",
      "text/plain": [
       "<Figure size 432x288 with 1 Axes>"
      ]
     },
     "metadata": {
      "needs_background": "light"
     },
     "output_type": "display_data"
    }
   ],
   "source": [
    "import matplotlib.pyplot as plt\n",
    "%matplotlib inline\n",
    "# 以視覺畫方式檢視訓練過程\n",
    "#SGD\n",
    "\n",
    "train_loss = model.history.history[\"loss\"]\n",
    "valid_loss = model.history.history[\"val_loss\"]\n",
    "\n",
    "train_acc = model.history.history[\"acc\"]\n",
    "valid_acc = model.history.history[\"val_acc\"]\n",
    "\n",
    "plt.plot(range(len(train_loss)), train_loss, label=\"train loss\")\n",
    "plt.plot(range(len(valid_loss)), valid_loss, label=\"valid loss\")\n",
    "plt.legend()\n",
    "plt.title(\"Loss\")\n",
    "plt.show()\n",
    "\n",
    "plt.plot(range(len(train_acc)), train_acc, label=\"train accuracy\")\n",
    "plt.plot(range(len(valid_acc)), valid_acc, label=\"valid accuracy\")\n",
    "plt.legend()\n",
    "plt.title(\"Accuracy\")\n",
    "plt.show()"
   ]
  },
  {
   "cell_type": "markdown",
   "metadata": {},
   "source": [
    "1. 請將 Epoch 加到 500 個，並觀察 learning curve 的走勢\n",
    "Answer: loss: 0.0043 - acc: 0.9999 - val_loss: 4.7312 - val_acc: 0.5019\n",
    "大概跑了20 epochs後，就overfitting了\n",
    "\n",
    "2. 請將 Optimizer 換成 SGD，並觀察 learning curve 的走勢\n",
    "Answer: loss: 2.1285 - acc: 0.2581 - val_loss: 2.1307 - val_acc: 0.2562"
   ]
  }
 ],
 "metadata": {
  "kernelspec": {
   "display_name": "Python 3",
   "language": "python",
   "name": "python3"
  },
  "language_info": {
   "codemirror_mode": {
    "name": "ipython",
    "version": 3
   },
   "file_extension": ".py",
   "mimetype": "text/x-python",
   "name": "python",
   "nbconvert_exporter": "python",
   "pygments_lexer": "ipython3",
   "version": "3.7.3"
  }
 },
 "nbformat": 4,
 "nbformat_minor": 2
}
