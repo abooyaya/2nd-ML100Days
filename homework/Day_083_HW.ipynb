{
 "cells": [
  {
   "cell_type": "markdown",
   "metadata": {},
   "source": [
    "## Work\n",
    "1. 試比較有 BN 在 Batch_size = 2, 16, 32, 128, 256 下的差異\n",
    "- batch size = 2:loss: 2.2432 - acc: 0.1675 - val_loss: 3.9480 - val_acc: 0.1765\n",
    "- batch size = 16: loss: 1.2677 - acc: 0.5495 - val_loss: 1.3457 - val_acc: 0.5239\n",
    "- batch size = 32: loss: 1.0779 - acc: 0.6170 - val_loss: 1.4476 - val_acc: 0.5025\n",
    "- batch size = 128:loss: 0.7493 - acc: 0.7375 - val_loss: 1.6359 - val_acc: 0.4804\n",
    "- batch size = 256:loss: 0.7497 - acc: 0.7446 - val_loss: 1.5609 - val_acc: 0.4986\n",
    "\n",
    "2. 請嘗試將 BN 放在 Activation 之前，並比較訓練結果\n",
    "- batch size = 32: loss: 0.6370 - acc: 0.7719 - val_loss: 1.5297 - val_acc: 0.5391\n",
    "\n",
    "3. 請於 BN 放在 Input Layer 後，並比較結果\n",
    "- batch size = 32: "
   ]
  },
  {
   "cell_type": "code",
   "execution_count": 1,
   "metadata": {},
   "outputs": [
    {
     "name": "stderr",
     "output_type": "stream",
     "text": [
      "Using TensorFlow backend.\n"
     ]
    }
   ],
   "source": [
    "import os\n",
    "import keras\n",
    "import itertools\n",
    "# Disable GPU\n",
    "os.environ[\"CUDA_VISIBLE_DEVICES\"] = \"\""
   ]
  },
  {
   "cell_type": "code",
   "execution_count": 2,
   "metadata": {},
   "outputs": [],
   "source": [
    "train, test = keras.datasets.cifar10.load_data()"
   ]
  },
  {
   "cell_type": "code",
   "execution_count": 3,
   "metadata": {},
   "outputs": [],
   "source": [
    "## 資料前處理\n",
    "def preproc_x(x, flatten=True):\n",
    "    x = x / 255.\n",
    "    if flatten:\n",
    "        x = x.reshape((len(x), -1))\n",
    "    return x\n",
    "\n",
    "def preproc_y(y, num_classes=10):\n",
    "    if y.shape[-1] == 1:\n",
    "        y = keras.utils.to_categorical(y, num_classes)\n",
    "    return y    "
   ]
  },
  {
   "cell_type": "code",
   "execution_count": 4,
   "metadata": {},
   "outputs": [],
   "source": [
    "x_train, y_train = train\n",
    "x_test, y_test = test\n",
    "\n",
    "# Preproc the inputs\n",
    "x_train = preproc_x(x_train)\n",
    "x_test = preproc_x(x_test)\n",
    "\n",
    "# Preprc the outputs\n",
    "y_train = preproc_y(y_train)\n",
    "y_test = preproc_y(y_test)"
   ]
  },
  {
   "cell_type": "code",
   "execution_count": 27,
   "metadata": {},
   "outputs": [
    {
     "data": {
      "text/plain": [
       "\"\\ninputs = Input(shape=(784,))\\nx = Dense(32, activation='tanh')(inputs)\\nx = Activation('relu')(x)\\npredictions = Dense(8, activation='softmax')(x)\\n\""
      ]
     },
     "execution_count": 27,
     "metadata": {},
     "output_type": "execute_result"
    }
   ],
   "source": [
    "from keras.layers import BatchNormalization\n",
    "\n",
    "\"\"\"\n",
    "建立神經網路，並加入 BN layer\n",
    "\"\"\"\n",
    "def build_mlp(input_shape, output_units=10, num_neurons=[512, 256, 128]):\n",
    "    input_layer = keras.layers.Input(input_shape)\n",
    "    x = BatchNormalization()(input_layer)\n",
    "    for i, n_units in enumerate(num_neurons):\n",
    "        if i == 0:\n",
    "\n",
    "            x = keras.layers.Dense(units=n_units, \n",
    "                                   activation=\"relu\", \n",
    "                                   name=\"hidden_layer\"+str(i+1))(x)\n",
    "            x = BatchNormalization()(x)\n",
    "\n",
    "        else:\n",
    "            \n",
    "            x = keras.layers.Dense(units=n_units, \n",
    "                                   activation=\"relu\", \n",
    "                                   name=\"hidden_layer\"+str(i+1))(x)\n",
    "            x = BatchNormalization()(x)\n",
    "    \n",
    "    out = keras.layers.Dense(units=output_units, activation=\"softmax\", name=\"output\")(x)\n",
    "    \n",
    "    model = keras.models.Model(inputs=[input_layer], outputs=[out])\n",
    "    return model\n",
    "\n",
    "#model.add(Dense(64,activation=k.tanh))\n",
    "#model.add( Activation(k.tanh))\n",
    "\"\"\"\n",
    "inputs = Input(shape=(784,))\n",
    "x = Dense(32, activation='tanh')(inputs)\n",
    "x = Activation('relu')(x)\n",
    "predictions = Dense(8, activation='softmax')(x)\n",
    "\"\"\""
   ]
  },
  {
   "cell_type": "code",
   "execution_count": 28,
   "metadata": {},
   "outputs": [
    {
     "name": "stdout",
     "output_type": "stream",
     "text": [
      "_________________________________________________________________\n",
      "Layer (type)                 Output Shape              Param #   \n",
      "=================================================================\n",
      "input_11 (InputLayer)        (None, 3072)              0         \n",
      "_________________________________________________________________\n",
      "batch_normalization_29 (Batc (None, 3072)              12288     \n",
      "_________________________________________________________________\n",
      "hidden_layer1 (Dense)        (None, 512)               1573376   \n",
      "_________________________________________________________________\n",
      "batch_normalization_30 (Batc (None, 512)               2048      \n",
      "_________________________________________________________________\n",
      "hidden_layer2 (Dense)        (None, 256)               131328    \n",
      "_________________________________________________________________\n",
      "batch_normalization_31 (Batc (None, 256)               1024      \n",
      "_________________________________________________________________\n",
      "hidden_layer3 (Dense)        (None, 128)               32896     \n",
      "_________________________________________________________________\n",
      "batch_normalization_32 (Batc (None, 128)               512       \n",
      "_________________________________________________________________\n",
      "output (Dense)               (None, 10)                1290      \n",
      "=================================================================\n",
      "Total params: 1,754,762\n",
      "Trainable params: 1,746,826\n",
      "Non-trainable params: 7,936\n",
      "_________________________________________________________________\n"
     ]
    }
   ],
   "source": [
    "model = build_mlp(input_shape=x_train.shape[1:])\n",
    "model.summary()"
   ]
  },
  {
   "cell_type": "code",
   "execution_count": 29,
   "metadata": {},
   "outputs": [],
   "source": [
    "## 超參數設定\n",
    "LEARNING_RATE = 1e-3\n",
    "EPOCHS = 20\n",
    "BATCH_SIZE = 32 #1024\n",
    "MOMENTUM = 0.95"
   ]
  },
  {
   "cell_type": "code",
   "execution_count": 30,
   "metadata": {
    "scrolled": true
   },
   "outputs": [
    {
     "name": "stdout",
     "output_type": "stream",
     "text": [
      "_________________________________________________________________\n",
      "Layer (type)                 Output Shape              Param #   \n",
      "=================================================================\n",
      "input_12 (InputLayer)        (None, 3072)              0         \n",
      "_________________________________________________________________\n",
      "batch_normalization_33 (Batc (None, 3072)              12288     \n",
      "_________________________________________________________________\n",
      "hidden_layer1 (Dense)        (None, 512)               1573376   \n",
      "_________________________________________________________________\n",
      "batch_normalization_34 (Batc (None, 512)               2048      \n",
      "_________________________________________________________________\n",
      "hidden_layer2 (Dense)        (None, 256)               131328    \n",
      "_________________________________________________________________\n",
      "batch_normalization_35 (Batc (None, 256)               1024      \n",
      "_________________________________________________________________\n",
      "hidden_layer3 (Dense)        (None, 128)               32896     \n",
      "_________________________________________________________________\n",
      "batch_normalization_36 (Batc (None, 128)               512       \n",
      "_________________________________________________________________\n",
      "output (Dense)               (None, 10)                1290      \n",
      "=================================================================\n",
      "Total params: 1,754,762\n",
      "Trainable params: 1,746,826\n",
      "Non-trainable params: 7,936\n",
      "_________________________________________________________________\n",
      "Train on 50000 samples, validate on 10000 samples\n",
      "Epoch 1/20\n",
      "50000/50000 [==============================] - 35s 705us/step - loss: 1.7051 - acc: 0.3971 - val_loss: 1.4850 - val_acc: 0.4706\n",
      "Epoch 2/20\n",
      "50000/50000 [==============================] - 33s 667us/step - loss: 1.4665 - acc: 0.4786 - val_loss: 1.4049 - val_acc: 0.4955\n",
      "Epoch 3/20\n",
      "50000/50000 [==============================] - 39s 782us/step - loss: 1.3697 - acc: 0.5126 - val_loss: 1.3723 - val_acc: 0.5115\n",
      "Epoch 4/20\n",
      "50000/50000 [==============================] - 35s 699us/step - loss: 1.2950 - acc: 0.5400 - val_loss: 1.3361 - val_acc: 0.5305\n",
      "Epoch 5/20\n",
      "50000/50000 [==============================] - 29s 589us/step - loss: 1.2370 - acc: 0.5618 - val_loss: 1.3228 - val_acc: 0.5344\n",
      "Epoch 6/20\n",
      "50000/50000 [==============================] - 30s 595us/step - loss: 1.1828 - acc: 0.5821 - val_loss: 1.3250 - val_acc: 0.5363\n",
      "Epoch 7/20\n",
      "50000/50000 [==============================] - 39s 770us/step - loss: 1.1328 - acc: 0.6007 - val_loss: 1.3065 - val_acc: 0.5405\n",
      "Epoch 8/20\n",
      "50000/50000 [==============================] - 35s 700us/step - loss: 1.0909 - acc: 0.6135 - val_loss: 1.2999 - val_acc: 0.5410\n",
      "Epoch 9/20\n",
      "50000/50000 [==============================] - 35s 701us/step - loss: 1.0415 - acc: 0.6305 - val_loss: 1.3047 - val_acc: 0.5394\n",
      "Epoch 10/20\n",
      "50000/50000 [==============================] - 35s 698us/step - loss: 1.0073 - acc: 0.6415 - val_loss: 1.3345 - val_acc: 0.5384\n",
      "Epoch 11/20\n",
      "50000/50000 [==============================] - 34s 681us/step - loss: 0.9619 - acc: 0.6605 - val_loss: 1.3594 - val_acc: 0.5422\n",
      "Epoch 12/20\n",
      "50000/50000 [==============================] - 30s 596us/step - loss: 0.9324 - acc: 0.6702 - val_loss: 1.3430 - val_acc: 0.5418\n",
      "Epoch 13/20\n",
      "50000/50000 [==============================] - 33s 659us/step - loss: 0.8944 - acc: 0.6825 - val_loss: 1.3601 - val_acc: 0.5425\n",
      "Epoch 14/20\n",
      "50000/50000 [==============================] - 34s 677us/step - loss: 0.8663 - acc: 0.6946 - val_loss: 1.3921 - val_acc: 0.5436\n",
      "Epoch 15/20\n",
      "50000/50000 [==============================] - 32s 634us/step - loss: 0.8339 - acc: 0.7036 - val_loss: 1.3912 - val_acc: 0.5402\n",
      "Epoch 16/20\n",
      "50000/50000 [==============================] - 30s 593us/step - loss: 0.7982 - acc: 0.7178 - val_loss: 1.3986 - val_acc: 0.5440\n",
      "Epoch 17/20\n",
      "50000/50000 [==============================] - 33s 652us/step - loss: 0.7691 - acc: 0.7269 - val_loss: 1.4192 - val_acc: 0.5445\n",
      "Epoch 18/20\n",
      "50000/50000 [==============================] - 31s 628us/step - loss: 0.7406 - acc: 0.7379 - val_loss: 1.4307 - val_acc: 0.5457\n",
      "Epoch 19/20\n",
      "50000/50000 [==============================] - 30s 606us/step - loss: 0.7201 - acc: 0.7457 - val_loss: 1.4532 - val_acc: 0.5395\n",
      "Epoch 20/20\n",
      "50000/50000 [==============================] - 29s 584us/step - loss: 0.6896 - acc: 0.7565 - val_loss: 1.4906 - val_acc: 0.5431\n"
     ]
    }
   ],
   "source": [
    "results = {}\n",
    "model = build_mlp(input_shape=x_train.shape[1:])\n",
    "model.summary()\n",
    "optimizer = keras.optimizers.SGD(lr=LEARNING_RATE, nesterov=True, momentum=MOMENTUM)\n",
    "model.compile(loss=\"categorical_crossentropy\", metrics=[\"accuracy\"], optimizer=optimizer)\n",
    "\n",
    "model.fit(x_train, y_train, \n",
    "          epochs=EPOCHS, \n",
    "          batch_size=BATCH_SIZE, \n",
    "          validation_data=(x_test, y_test), \n",
    "          shuffle=True)\n",
    "\n",
    "# Collect results\n",
    "train_loss = model.history.history[\"loss\"]\n",
    "valid_loss = model.history.history[\"val_loss\"]\n",
    "train_acc = model.history.history[\"acc\"]\n",
    "valid_acc = model.history.history[\"val_acc\"]"
   ]
  },
  {
   "cell_type": "code",
   "execution_count": null,
   "metadata": {},
   "outputs": [],
   "source": [
    "import matplotlib.pyplot as plt\n",
    "%matplotlib inline\n",
    "\"\"\"Code Here\n",
    "將結果繪出\n",
    "\"\"\""
   ]
  }
 ],
 "metadata": {
  "kernelspec": {
   "display_name": "Python 3",
   "language": "python",
   "name": "python3"
  },
  "language_info": {
   "codemirror_mode": {
    "name": "ipython",
    "version": 3
   },
   "file_extension": ".py",
   "mimetype": "text/x-python",
   "name": "python",
   "nbconvert_exporter": "python",
   "pygments_lexer": "ipython3",
   "version": "3.7.3"
  }
 },
 "nbformat": 4,
 "nbformat_minor": 2
}
